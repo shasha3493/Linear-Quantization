{
 "cells": [
  {
   "cell_type": "markdown",
   "id": "f6a3ce36-4c4c-4a97-94d6-13d432dc45bf",
   "metadata": {},
   "source": [
    "# Linear Quantization"
   ]
  },
  {
   "cell_type": "markdown",
   "id": "22094ff3-6331-42a6-8802-b7b82c7364f6",
   "metadata": {},
   "source": [
    "## Setup\n",
    "\n",
    "First, install the required packages and download the datasets and pretrained model. Here we use CIFAR10 dataset and VGG network."
   ]
  },
  {
   "cell_type": "code",
   "execution_count": 116,
   "id": "6153de5b-616c-44be-9a00-d9c8f9cb3d99",
   "metadata": {},
   "outputs": [
    {
     "name": "stdout",
     "output_type": "stream",
     "text": [
      "Installing torchprofile...\n",
      "Installing fast-pytorch-kmeans...\n",
      "All required packages have been successfully installed!\n"
     ]
    }
   ],
   "source": [
    "print('Installing torchprofile...')\n",
    "!pip install torchprofile 1>/dev/null\n",
    "print('Installing fast-pytorch-kmeans...')\n",
    "! pip install fast-pytorch-kmeans 1>/dev/null\n",
    "print('All required packages have been successfully installed!')"
   ]
  },
  {
   "cell_type": "code",
   "execution_count": 117,
   "id": "7261611a-7784-4808-8b0b-59b69233a5b4",
   "metadata": {},
   "outputs": [],
   "source": [
    "import copy\n",
    "import math\n",
    "import random\n",
    "from collections import OrderedDict, defaultdict\n",
    "\n",
    "from matplotlib import pyplot as plt\n",
    "from matplotlib.colors import ListedColormap\n",
    "import numpy as np\n",
    "from tqdm.auto import tqdm\n",
    "\n",
    "import torch\n",
    "from torch import nn\n",
    "from torch.optim import *\n",
    "from torch.optim.lr_scheduler import *\n",
    "from torch.utils.data import DataLoader\n",
    "from torchprofile import profile_macs\n",
    "from torchvision.datasets import *\n",
    "from torchvision.transforms import *\n",
    "\n",
    "from torchprofile import profile_macs\n",
    "\n",
    "assert torch.cuda.is_available()"
   ]
  },
  {
   "cell_type": "code",
   "execution_count": 118,
   "id": "8b6ccc81-a066-4552-b7fe-f9dc2ef85db0",
   "metadata": {},
   "outputs": [
    {
     "data": {
      "text/plain": [
       "<torch._C.Generator at 0x7f2f59073b10>"
      ]
     },
     "execution_count": 118,
     "metadata": {},
     "output_type": "execute_result"
    }
   ],
   "source": [
    "random.seed(0)\n",
    "np.random.seed(0)\n",
    "torch.manual_seed(0)"
   ]
  },
  {
   "cell_type": "code",
   "execution_count": 119,
   "id": "cea17521-e26a-4fd0-9b1f-e453ac5761fb",
   "metadata": {},
   "outputs": [],
   "source": [
    "def download_url(url, model_dir='.', overwrite=False):\n",
    "    import os, sys\n",
    "    from urllib.request import urlretrieve\n",
    "    target_dir = url.split('/')[-1]\n",
    "    model_dir = os.path.expanduser(model_dir)\n",
    "    try:\n",
    "        if not os.path.exists(model_dir):\n",
    "            os.makedirs(model_dir)\n",
    "        model_dir = os.path.join(model_dir, target_dir)\n",
    "        cached_file = model_dir\n",
    "        if not os.path.exists(cached_file) or overwrite:\n",
    "            sys.stderr.write('Downaloading: \"{}\" to {}\\n'.format(url, cached_file))\n",
    "            urlretrieve(url, cached_file)\n",
    "        return cached_file\n",
    "    except Exception as e:\n",
    "        os.remove(os.path.join(model_dir, 'download.lock'))\n",
    "        sys.stderr.write('Failed to download from url %s' % url + '\\n' + str(e) + '\\n')\n",
    "        return None                             "
   ]
  },
  {
   "cell_type": "code",
   "execution_count": 120,
   "id": "3c22fcfd-5482-46c0-9efa-20dadc8b611b",
   "metadata": {},
   "outputs": [],
   "source": [
    "class VGG(nn.Module):\n",
    "    ARCH = [64, 128, 'M', 256, 256, 'M', 512, 512, 'M', 512, 512, 'M']\n",
    "    \n",
    "    def __init__(self):\n",
    "        super().__init__()\n",
    "        layers = []\n",
    "        counts = defaultdict(int)\n",
    "    \n",
    "        def add(name, layer):\n",
    "            layers.append((f\"{name}{counts[name]}\", layer))\n",
    "            counts[name]+=1\n",
    "\n",
    "        in_channels=3\n",
    "        for x in self.ARCH:\n",
    "            if x!='M':\n",
    "                # conv-bn-relu\n",
    "                add(\"conv\", nn.Conv2d(in_channels, x, 3, padding=1, bias=False))\n",
    "                add(\"bn\", nn.BatchNorm2d(x))\n",
    "                add(\"relu\", nn.ReLU(True))\n",
    "                in_channels = x\n",
    "            else:\n",
    "                # maxpool\n",
    "                add(\"pool\", nn.MaxPool2d(2))\n",
    "        add(\"avgpool\", nn.AvgPool2d(2))\n",
    "        self.backbone = nn.Sequential(OrderedDict(layers))\n",
    "        self.classifier = nn.Linear(512, 10)\n",
    "        \n",
    "    def forward(self, x):\n",
    "        # backbone: [N, 3, 32, 32] => [N, 512, 2, 2]\n",
    "        x = self.backbone(x)\n",
    "        # avgpool: [N, 512, 2, 2] => [N, 512]\n",
    "        x = x.view(x.shape[0], -1)\n",
    "        x = self.classifier(x)\n",
    "        return x\n",
    "            \n",
    "        "
   ]
  },
  {
   "cell_type": "code",
   "execution_count": 121,
   "id": "55a3d143-de5a-4823-b966-4ededea8d4be",
   "metadata": {},
   "outputs": [],
   "source": [
    "def train(model, dataloader, criterion, optimizer, scheduler, callbacks):\n",
    "    model.train()\n",
    "    \n",
    "    for inputs, targets in tqdm(dataloader, desc='train', leave=False):\n",
    "        # Move the data from CPU to GPU\n",
    "        inputs, targets = inputs.cuda(), targers.cuda()\n",
    "        \n",
    "        # Reset the gradients (from the last iteration)\n",
    "        optimizer.zero_grad()\n",
    "        \n",
    "        # Forward inference\n",
    "        outputs = model(inputs)\n",
    "        loss = criterion(outputs, targets)\n",
    "        \n",
    "        # Backward propagation\n",
    "        loss.backward()\n",
    "        \n",
    "        # Update optimizer and LR scheduler\n",
    "        optimizer.step()\n",
    "        scheduler.step()\n",
    "        \n",
    "        if callbacks is not None:\n",
    "            for callback in callbacks:\n",
    "                callback()"
   ]
  },
  {
   "cell_type": "code",
   "execution_count": 122,
   "id": "1f66edda-7fd6-48c0-bee5-1322f594c1b5",
   "metadata": {},
   "outputs": [],
   "source": [
    "def evaluate(model, dataloader, extra_preprocess=None):\n",
    "    model.eval()\n",
    "    \n",
    "    num_samples = 0\n",
    "    num_correct = 0\n",
    "    \n",
    "    for inputs, targets in tqdm(dataloader, desc=\"eval\", leave=False):\n",
    "        # Move the data from CPU to GPU\n",
    "        inputs = inputs.cuda()\n",
    "        if extra_preprocess is not None:\n",
    "            for preprocess in extra_preprocess:\n",
    "                inputs = preprocess(inputs)\n",
    "        targets = targets.cuda()\n",
    "        \n",
    "        # Inference\n",
    "        outputs = model(inputs)\n",
    "        \n",
    "        # Convert logits to class indices\n",
    "        outputs = outputs.argmax(dim=1)\n",
    "        \n",
    "        # Update metrics\n",
    "        num_samples += targets.size(0)\n",
    "        num_correct += (outputs==targets).sum()\n",
    "    return (num_correct*100/num_samples).item()\n",
    "    "
   ]
  },
  {
   "cell_type": "markdown",
   "id": "565a36d4-cff2-41c8-9bf1-59dc78bc99f6",
   "metadata": {},
   "source": [
    "Helpler Functions (Flops, Model Size calculation, etc.)"
   ]
  },
  {
   "cell_type": "code",
   "execution_count": 123,
   "id": "5cef320c-e113-404e-ae8e-283fece4a0e9",
   "metadata": {},
   "outputs": [],
   "source": [
    "def get_model_flops(model, inputs):\n",
    "    num_macs = profile_macs(model, inputs)\n",
    "    return num_macs\n"
   ]
  },
  {
   "cell_type": "code",
   "execution_count": 124,
   "id": "064809df-4302-4617-a476-d1d312374dd5",
   "metadata": {},
   "outputs": [],
   "source": [
    "def get_model_size(model, data_width=32):\n",
    "    \"\"\"\n",
    "    calculate the model size in bits\n",
    "    :param data_width: #bits per element\n",
    "    \"\"\"\n",
    "    \n",
    "    num_elements = 0\n",
    "    for param in model.parameters():\n",
    "        num_elements += param.numel()\n",
    "    return num_elements*data_width\n",
    "\n",
    "Byte = 8\n",
    "KiB = 1024*Byte\n",
    "MiB = 1024*KiB\n",
    "GiB = 1024 * MiB"
   ]
  },
  {
   "cell_type": "markdown",
   "id": "8dbd3cc7-3915-4f60-b365-e4b96739f923",
   "metadata": {},
   "source": [
    "Load Pretrained Model"
   ]
  },
  {
   "cell_type": "code",
   "execution_count": 125,
   "id": "1524e198-178f-4a15-b14f-a02ca7b981c6",
   "metadata": {},
   "outputs": [
    {
     "name": "stdout",
     "output_type": "stream",
     "text": [
      "=> loading checkpoint 'https://hanlab18.mit.edu/files/course/labs/vgg.cifar.pretrained.pth'\n"
     ]
    }
   ],
   "source": [
    "checkpoint_url = \"https://hanlab18.mit.edu/files/course/labs/vgg.cifar.pretrained.pth\"\n",
    "checkpoint = torch.load(download_url(checkpoint_url), map_location=\"cpu\")\n",
    "\n",
    "model = VGG().cuda()\n",
    "print(f\"=> loading checkpoint '{checkpoint_url}'\")\n",
    "model.load_state_dict(checkpoint['state_dict'])\n",
    "recover_model = lambda: model.load_state_dict(checkpoint['state_dict'])"
   ]
  },
  {
   "cell_type": "code",
   "execution_count": 126,
   "id": "dc1c95c0-fbbb-416c-9789-473c1bfaaeab",
   "metadata": {},
   "outputs": [
    {
     "name": "stdout",
     "output_type": "stream",
     "text": [
      "Files already downloaded and verified\n",
      "Files already downloaded and verified\n"
     ]
    }
   ],
   "source": [
    "image_size=32\n",
    "\n",
    "transforms = {\n",
    "    \"train\": Compose([\n",
    "        RandomCrop(image_size, padding=4),\n",
    "        RandomHorizontalFlip(),\n",
    "        ToTensor(),\n",
    "    ]),\n",
    "    \n",
    "    \"test\": ToTensor(),\n",
    "}\n",
    "\n",
    "dataset = {}\n",
    "\n",
    "for split in ['train', 'test']:\n",
    "    dataset[split] = CIFAR10(root=\"data/cifar10\", train = (split==\"train\"), download=True, transform=transforms[split])\n",
    "\n",
    "dataloader = {}\n",
    "\n",
    "for split in ['train', 'test']:\n",
    "    dataloader[split] = DataLoader(dataset[split], batch_size=128, shuffle=(split=='train'), num_workers=0, pin_memory=True)\n"
   ]
  },
  {
   "cell_type": "markdown",
   "id": "448bff08-8610-45dc-8363-76e3020228ee",
   "metadata": {},
   "source": [
    "## Let's First Evaluate the Accuracy and Model Size of the FP32 Model"
   ]
  },
  {
   "cell_type": "code",
   "execution_count": 127,
   "id": "afa342f9-c239-427f-b674-47792c571e16",
   "metadata": {},
   "outputs": [
    {
     "data": {
      "application/vnd.jupyter.widget-view+json": {
       "model_id": "",
       "version_major": 2,
       "version_minor": 0
      },
      "text/plain": [
       "eval:   0%|          | 0/79 [00:00<?, ?it/s]"
      ]
     },
     "metadata": {},
     "output_type": "display_data"
    },
    {
     "name": "stdout",
     "output_type": "stream",
     "text": [
      "fp32 model has accuracy=92.95%\n",
      "fp32 model has size=35.20 MiB\n"
     ]
    }
   ],
   "source": [
    "fp32_model_accuracy = evaluate(model, dataloader['test'])\n",
    "fp32_model_size = get_model_size(model)\n",
    "\n",
    "print(f\"fp32 model has accuracy={fp32_model_accuracy:.2f}%\")\n",
    "print(f\"fp32 model has size={fp32_model_size/MiB:.2f} MiB\")"
   ]
  },
  {
   "cell_type": "markdown",
   "id": "17666166-0df9-4613-9aed-046d1348dd0f",
   "metadata": {},
   "source": [
    "Define misc funcions for verification."
   ]
  },
  {
   "cell_type": "code",
   "execution_count": 128,
   "id": "4aa824ce-3f54-4d13-a909-4ef27540debf",
   "metadata": {},
   "outputs": [],
   "source": [
    "def test_linear_quantize(\n",
    "    test_tensor = torch.tensor([\n",
    "        [ 0.0523,  0.6364, -0.0968, -0.0020,  0.1940],\n",
    "        [ 0.7500,  0.5507,  0.6188, -0.1734,  0.4677],\n",
    "        [-0.0669,  0.3836,  0.4297,  0.6267, -0.0695],\n",
    "        [ 0.1536, -0.0038,  0.6075,  0.6817,  0.0601],\n",
    "        [ 0.6446, -0.2500,  0.5376, -0.2226,  0.2333]]),\n",
    "    \n",
    "    quantized_test_tensor=torch.tensor([\n",
    "        [-1,  1, -1, -1,  0],\n",
    "        [ 1,  1,  1, -2,  0],\n",
    "        [-1,  0,  0,  1, -1],\n",
    "        [-1, -1,  1,  1, -1],\n",
    "        [ 1, -2,  1, -2,  0]], dtype=torch.int8),\n",
    "    \n",
    "    real_min=-0.25, real_max=0.75, bitwidth=2, scale=1/3, zero_point=-1):\n",
    "    \n",
    "    def plot_matrix(tensor, ax, title, vmin=0, vmax=1, cmap=ListedColormap(['white'])):\n",
    "        ax.imshow(tensor.cpu().numpy(), vmin=vmin, vmax=vmax, cmap=cmap)\n",
    "        ax.set_title(title)\n",
    "        ax.set_yticklabels([])\n",
    "        ax.set_xticklabels([])\n",
    "        for i in range(tensor.shape[0]):\n",
    "            for j in range(tensor.shape[1]):\n",
    "                datum = tensor[i, j].item()\n",
    "                if isinstance(datum, float):\n",
    "                    text = ax.text(j, i, f'{datum:.2f}',\n",
    "                                    ha=\"center\", va=\"center\", color=\"k\")\n",
    "                else:\n",
    "                    text = ax.text(j, i, f'{datum}',\n",
    "                                    ha=\"center\", va=\"center\", color=\"k\")\n",
    "    quantized_min, quantized_max = get_quantized_range(bitwidth)\n",
    "    fig, axes = plt.subplots(1,3, figsize=(10,32))\n",
    "    plot_matrix(test_tensor, axes[0], 'original_tesnor', vmin=real_min, vmax=real_max)\n",
    "    _quantized_test_tensor=linear_quantize(test_tensor, bitwidth=bitwidth, scale=scale, zero_point=zero_point)\n",
    "    _reconstructed_test_tensor = scale*(_quantized_test_tensor.float() - zero_point)\n",
    "    print('* Test linear_quantize()')\n",
    "    print(f'    target bitwidth: {bitwidth} bits')\n",
    "    print(f'        scale: {scale}')\n",
    "    print(f'        zero point: {zero_point}')\n",
    "    assert _quantized_test_tensor.equal(quantized_test_tensor)\n",
    "    print('* Test passed.')\n",
    "    plot_matrix(_quantized_test_tensor, axes[1], f'2-bit linear quantized tensor',\n",
    "                vmin=quantized_min, vmax=quantized_max, cmap='tab20c')\n",
    "    plot_matrix(_reconstructed_test_tensor, axes[2], f'reconstructed tensor',\n",
    "                vmin=real_min, vmax=real_max, cmap='tab20c')\n",
    "    fig.tight_layout()\n",
    "    plt.show()"
   ]
  },
  {
   "cell_type": "code",
   "execution_count": 129,
   "id": "914e2778-58c7-4cc9-afa5-3655f818fe6a",
   "metadata": {},
   "outputs": [],
   "source": [
    "def test_quantized_fc(\n",
    "    input=torch.tensor([\n",
    "        [0.6118, 0.7288, 0.8511, 0.2849, 0.8427, 0.7435, 0.4014, 0.2794],\n",
    "        [0.3676, 0.2426, 0.1612, 0.7684, 0.6038, 0.0400, 0.2240, 0.4237],\n",
    "        [0.6565, 0.6878, 0.4670, 0.3470, 0.2281, 0.8074, 0.0178, 0.3999],\n",
    "        [0.1863, 0.3567, 0.6104, 0.0497, 0.0577, 0.2990, 0.6687, 0.8626]]),\n",
    "    weight=torch.tensor([\n",
    "        [ 1.2626e-01, -1.4752e-01,  8.1910e-02,  2.4982e-01, -1.0495e-01,\n",
    "         -1.9227e-01, -1.8550e-01, -1.5700e-01],\n",
    "        [ 2.7624e-01, -4.3835e-01,  5.1010e-02, -1.2020e-01, -2.0344e-01,\n",
    "          1.0202e-01, -2.0799e-01,  2.4112e-01],\n",
    "        [-3.8216e-01, -2.8047e-01,  8.5238e-02, -4.2504e-01, -2.0952e-01,\n",
    "          3.2018e-01, -3.3619e-01,  2.0219e-01],\n",
    "        [ 8.9233e-02, -1.0124e-01,  1.1467e-01,  2.0091e-01,  1.1438e-01,\n",
    "         -4.2427e-01,  1.0178e-01, -3.0941e-04],\n",
    "        [-1.8837e-02, -2.1256e-01, -4.5285e-01,  2.0949e-01, -3.8684e-01,\n",
    "         -1.7100e-01, -4.5331e-01, -2.0433e-01],\n",
    "        [-2.0038e-01, -5.3757e-02,  1.8997e-01, -3.6866e-01,  5.5484e-02,\n",
    "          1.5643e-01, -2.3538e-01,  2.1103e-01],\n",
    "        [-2.6875e-01,  2.4984e-01, -2.3514e-01,  2.5527e-01,  2.0322e-01,\n",
    "          3.7675e-01,  6.1563e-02,  1.7201e-01],\n",
    "        [ 3.3541e-01, -3.3555e-01, -4.3349e-01,  4.3043e-01, -2.0498e-01,\n",
    "         -1.8366e-01, -9.1553e-02, -4.1168e-01]]),\n",
    "    bias=torch.tensor([ 0.1954, -0.2756,  0.3113,  0.1149,  0.4274,  0.2429, -0.1721, -0.2502]),\n",
    "    quantized_bias=torch.tensor([ 3, -2,  3,  1,  3,  2, -2, -2], dtype=torch.int32),\n",
    "    shifted_quantized_bias=torch.tensor([-1,  0, -3, -1, -3,  0,  2, -4], dtype=torch.int32),\n",
    "    calc_quantized_output=torch.tensor([\n",
    "        [ 0, -1,  0, -1, -1,  0,  1, -2],\n",
    "        [ 0,  0, -1,  0,  0,  0,  0, -1],\n",
    "        [ 0,  0,  0, -1,  0,  0,  0, -1],\n",
    "        [ 0,  0,  0,  0,  0,  1, -1, -2]], dtype=torch.int8),\n",
    "    bitwidth=2, batch_size=4, in_channels=8, out_channels=8):\n",
    "    def plot_matrix(tensor, ax, title, vmin=0, vmax=1, cmap=ListedColormap(['white'])):\n",
    "        ax.imshow(tensor.cpu().numpy(), vmin=vmin, vmax=vmax, cmap=cmap)\n",
    "        ax.set_title(title)\n",
    "        ax.set_yticklabels([])\n",
    "        ax.set_xticklabels([])\n",
    "        for i in range(tensor.shape[0]):\n",
    "            for j in range(tensor.shape[1]):\n",
    "                datum = tensor[i, j].item()\n",
    "                if isinstance(datum, float):\n",
    "                    text = ax.text(j, i, f'{datum:.2f}',\n",
    "                                    ha=\"center\", va=\"center\", color=\"k\")\n",
    "                else:\n",
    "                    text = ax.text(j, i, f'{datum}',\n",
    "                                    ha=\"center\", va=\"center\", color=\"k\")\n",
    "\n",
    "    output = torch.nn.functional.linear(input, weight, bias)\n",
    "\n",
    "    quantized_weight, weight_scale, weight_zero_point = \\\n",
    "        linear_quantize_weight_per_channel(weight, bitwidth)\n",
    "    quantized_input, input_scale, input_zero_point = \\\n",
    "        linear_quantize_feature(input, bitwidth)\n",
    "    _quantized_bias, bias_scale, bias_zero_point = \\\n",
    "        linear_quantize_bias_per_output_channel(bias, weight_scale, input_scale)\n",
    "\n",
    "    assert _quantized_bias.equal(quantized_bias) # original: _quantized_bias.equal(_quantized_bias)\n",
    "    _shifted_quantized_bias = \\\n",
    "        shift_quantized_linear_bias(quantized_bias, quantized_weight, input_zero_point)\n",
    "    assert _shifted_quantized_bias.equal(shifted_quantized_bias)\n",
    "    quantized_output, output_scale, output_zero_point = \\\n",
    "        linear_quantize_feature(output, bitwidth)\n",
    "\n",
    "    _calc_quantized_output = quantized_linear(\n",
    "        quantized_input, quantized_weight, shifted_quantized_bias,\n",
    "        bitwidth, bitwidth,\n",
    "        input_zero_point, output_zero_point,\n",
    "        input_scale, weight_scale, output_scale)\n",
    "\n",
    "    assert _calc_quantized_output.equal(calc_quantized_output)\n",
    "\n",
    "    reconstructed_weight = weight_scale * (quantized_weight.float() - weight_zero_point)\n",
    "    reconstructed_input = input_scale * (quantized_input.float() - input_zero_point)\n",
    "    reconstructed_bias = bias_scale * (quantized_bias.float() - bias_zero_point)\n",
    "    reconstructed_calc_output = output_scale * (calc_quantized_output.float() - output_zero_point)\n",
    "\n",
    "    fig, axes = plt.subplots(3,3, figsize=(15, 12))\n",
    "    quantized_min, quantized_max = get_quantized_range(bitwidth)\n",
    "    plot_matrix(weight, axes[0, 0], 'original weight', vmin=-0.5, vmax=0.5)\n",
    "    plot_matrix(input.t(), axes[1, 0], 'original input', vmin=0, vmax=1)\n",
    "    plot_matrix(output.t(), axes[2, 0], 'original output', vmin=-1.5, vmax=1.5)\n",
    "    plot_matrix(quantized_weight, axes[0, 1], f'{bitwidth}-bit linear quantized weight',\n",
    "                vmin=quantized_min, vmax=quantized_max, cmap='tab20c')\n",
    "    plot_matrix(quantized_input.t(), axes[1, 1], f'{bitwidth}-bit linear quantized input',\n",
    "                vmin=quantized_min, vmax=quantized_max, cmap='tab20c')\n",
    "    plot_matrix(calc_quantized_output.t(), axes[2, 1], f'quantized output from quantized_linear()',\n",
    "                vmin=quantized_min, vmax=quantized_max, cmap='tab20c')\n",
    "    plot_matrix(reconstructed_weight, axes[0, 2], f'reconstructed weight',\n",
    "                vmin=-0.5, vmax=0.5, cmap='tab20c')\n",
    "    plot_matrix(reconstructed_input.t(), axes[1, 2], f'reconstructed input',\n",
    "                vmin=0, vmax=1, cmap='tab20c')\n",
    "    plot_matrix(reconstructed_calc_output.t(), axes[2, 2], f'reconstructed output',\n",
    "                vmin=-1.5, vmax=1.5, cmap='tab20c')\n",
    "\n",
    "    print('* Test quantized_fc()')\n",
    "    print(f'    target bitwidth: {bitwidth} bits')\n",
    "    print(f'      batch size: {batch_size}')\n",
    "    print(f'      input channels: {in_channels}')\n",
    "    print(f'      output channels: {out_channels}')\n",
    "    print('* Test passed.')\n",
    "    fig.tight_layout()\n",
    "    plt.show()"
   ]
  },
  {
   "cell_type": "markdown",
   "id": "3e69062e-ffe3-43c7-9dd7-11685a392926",
   "metadata": {},
   "source": [
    "## Linear Quantization"
   ]
  },
  {
   "cell_type": "markdown",
   "id": "42059365-2a76-43b8-b677-9d886bfcc733",
   "metadata": {},
   "source": [
    "In this section, we will implement and perform linear quantization.\n",
    "\n",
    "Linear quantization directly rounds the floating-point value into the nearest quantized integer after range truncation and scaling.\n",
    "\n",
    "[Linear quantization](https://arxiv.org/pdf/1712.05877.pdf) can be represented as\n",
    "\n",
    "$r = S(q-Z)$\n",
    "\n",
    "where $r$ is a floating point real number, $q$ is a *n*-bit integer, $Z$ is a *n*-bit integer, and $S$ is a floating point real number. $Z$ is quantization zero point and $S$ is quantization scaling factor. Both constant $Z$ and $S$ are quantization parameters."
   ]
  },
  {
   "cell_type": "markdown",
   "id": "c7fef414-8818-4a71-b2a6-bf693760d442",
   "metadata": {},
   "source": [
    "## *n*-bit Integer\n",
    "\n",
    "A *n*-bit signed integer is usually represented in [two's complement](https://en.wikipedia.org/wiki/Two%27s_complement) notation.\n",
    "\n",
    "A *n*-bit signed integer can enode integers in the range $[-2^{n-1}, 2^{n-1}-1]$. For example, a 8-bit integer falls in the range [-128, 127]."
   ]
  },
  {
   "cell_type": "code",
   "execution_count": 130,
   "id": "34f613a9-a649-4f87-889e-0e71a9a4dc6d",
   "metadata": {},
   "outputs": [],
   "source": [
    "def get_quantized_range(bitwidth):\n",
    "    quantized_max = (1 << (bitwidth - 1)) -1 \n",
    "    quantized_min = -(1 << (bitwidth - 1))\n",
    "    \n",
    "    return quantized_min, quantized_max"
   ]
  },
  {
   "cell_type": "markdown",
   "id": "3c6ac831-f55f-413e-8a00-3c6e8939506e",
   "metadata": {},
   "source": [
    "*   From $r=S(q-Z)$, we have $q = r/S + Z$.\n",
    "*   Both $r$ and $S$ are floating numbers, and thus we cannot directly add integer $Z$ to $r/S$. Therefore $q = \\mathrm{int}(\\mathrm{round}(r/S)) + Z$."
   ]
  },
  {
   "cell_type": "code",
   "execution_count": 131,
   "id": "8da47966-7767-4adf-869e-80561b7269ea",
   "metadata": {},
   "outputs": [],
   "source": [
    "def linear_quantize(fp_tensor, bitwidth, scale, zero_point, dtype=torch.int8):\n",
    "    \"\"\"\n",
    "    linear quantization for single fp_tensor\n",
    "      from\n",
    "        fp_tensor = (quantized_tensor - zero_point) * scale\n",
    "      we have,\n",
    "        quantized_tensor = int(round(fp_tensor / scale)) + zero_point\n",
    "    :param tensor: [torch.(cuda.)FloatTensor] floating tensor to be quantized\n",
    "    :param bitwidth: [int] quantization bit width\n",
    "    :param scale: [torch.(cuda.)FloatTensor] scaling factor\n",
    "    :param zero_point: [torch.(cuda.)IntTensor] the desired centroid of tensor values\n",
    "    :return:\n",
    "        [torch.(cuda.)FloatTensor] quantized tensor whose values are integers\n",
    "    \"\"\"\n",
    "    \n",
    "    # Step 1: scale the fp_tensor\n",
    "    scaled_tensor = fp_tensor/scale\n",
    "    \n",
    "    # Step 2: round the floating value to integer value\n",
    "    rounded_tensor = torch.round(scaled_tensor)\n",
    "    rounded_tensor = rounded_tensor.to(dtype)\n",
    "    \n",
    "    # Step 3: shift the rounded_tensor to make zero_point 0\n",
    "    shifted_tensor = rounded_tensor + zero_point\n",
    "    \n",
    "    # Step 4: clamp the shifted_tensor to lie in bitwidth-bit range\n",
    "    quantized_min, quantized_max = get_quantized_range(bitwidth)\n",
    "    quantized_tensor = shifted_tensor.clamp_(quantized_min, quantized_max)\n",
    "    return quantized_tensor"
   ]
  },
  {
   "cell_type": "markdown",
   "id": "522e47cf-be66-4d39-b3bd-a1dee06e3a24",
   "metadata": {},
   "source": [
    "Let's verify the functionality of defined linear quantization by applying the function above on a dummy tensor."
   ]
  },
  {
   "cell_type": "code",
   "execution_count": 132,
   "id": "802a74ba-98c7-40e4-9c24-4ae2c8f75cb2",
   "metadata": {},
   "outputs": [
    {
     "name": "stdout",
     "output_type": "stream",
     "text": [
      "* Test linear_quantize()\n",
      "    target bitwidth: 2 bits\n",
      "        scale: 0.3333333333333333\n",
      "        zero point: -1\n",
      "* Test passed.\n"
     ]
    },
    {
     "data": {
      "image/png": "[encoded data removed]",
      "text/plain": [
       "<Figure size 1000x3200 with 3 Axes>"
      ]
     },
     "metadata": {},
     "output_type": "display_data"
    }
   ],
   "source": [
    "test_linear_quantize()"
   ]
  },
  {
   "cell_type": "markdown",
   "id": "0a718e10-781e-45bf-a35b-19cf109176d1",
   "metadata": {},
   "source": [
    "Now we have to determine the scaling factor $S$ and zero point $Z$ for linear quantization.\n",
    "\n",
    "Recall that [linear quantization](https://arxiv.org/pdf/1712.05877.pdf) can be represented as\n",
    "\n",
    "$r = S(q-Z)$"
   ]
  },
  {
   "cell_type": "markdown",
   "id": "630b92fc-6362-47cc-b03a-4b612584a50b",
   "metadata": {},
   "source": [
    "### Scale\n",
    "\n",
    "Linear quantization projects the floating point range [*fp_min*, *fp_max*] to the quantized range [*quantized_min*, *quantized_max*]. That is to say,\n",
    "\n",
    "> $r_{\\mathrm{max}} = S(q_{\\mathrm{max}}-Z)$\n",
    ">\n",
    "> $r_{\\mathrm{min}} = S(q_{\\mathrm{min}}-Z)$\n",
    "\n",
    "Substracting these two equations, we have,\n",
    "\n",
    "$S=(r_{\\mathrm{max}} - r_{\\mathrm{min}}) / (q_{\\mathrm{max}} - q_{\\mathrm{min}})$"
   ]
  },
  {
   "cell_type": "markdown",
   "id": "ab0531c9-47f8-4a87-8e48-ff01eccc206f",
   "metadata": {},
   "source": [
    "There are different approaches to determine the $r_{\\mathrm{min}}$ and  $r_{\\mathrm{max}}$ of a floating point tensor `fp_tensor`.\n",
    "\n",
    "*   The most common method is directly using the minimum and maximum value of `fp_tensor`.\n",
    "*   Another widely used method is minimizing Kullback-Leibler-J divergence to determine the *fp_max*"
   ]
  },
  {
   "cell_type": "markdown",
   "id": "c3829750-cbf7-4119-b4ad-094d54afbc9a",
   "metadata": {},
   "source": [
    "## zero point\n",
    "\n",
    "Once we determine the scaling factor $S$, we can directly use the relationship between $r_{\\mathrm{min}}$ and $q_{\\mathrm{min}}$ to calculate the zero point $Z$.\n",
    "\n",
    "$Z = \\mathrm{int}(\\mathrm{round}(q_{\\mathrm{min}} - r_{\\mathrm{min}} / S))$"
   ]
  },
  {
   "cell_type": "code",
   "execution_count": 133,
   "id": "07cf0c88-b040-433e-8cbf-d5e553dc760f",
   "metadata": {},
   "outputs": [],
   "source": [
    "def get_quantization_scale_and_zero_point(fp_tensor, bitwidth):\n",
    "    \"\"\"\n",
    "    get quantization scale for single tensor\n",
    "    :param fp_tensor: [torch.(cuda.)Tensor] floating tensor to be quantized\n",
    "    :param bitwidth: [int] quantization bit width\n",
    "    :return:\n",
    "        [float] scale\n",
    "        [int] zero_point\n",
    "    \"\"\"\n",
    "    \n",
    "    quantized_min, quantized_max = get_quantized_range(bitwidth)\n",
    "    fp_max = fp_tensor.max().item()\n",
    "    fp_min = fp_tensor.min().item()\n",
    "    \n",
    "    # calculating scale\n",
    "    scale = (fp_max - fp_min)/(quantized_max - quantized_min)\n",
    "    # calculating zero_point\n",
    "    zero_point = round(quantized_min - fp_min/scale)\n",
    "    \n",
    "    # clip the zero_point to fall in [quantized_min, quantized_max]\n",
    "    if zero_point < quantized_min:\n",
    "        zero_point = quantized_min\n",
    "    elif zero_point > quantized_max:\n",
    "        zero_point = quantized_max\n",
    "    else: # convert from float to int using round()\n",
    "        zero_point = round(zero_point)\n",
    "        \n",
    "    return scale, int(zero_point)\n",
    "    "
   ]
  },
  {
   "cell_type": "markdown",
   "id": "264c5540-30fd-4b1a-8fc6-4657e6dd0ca6",
   "metadata": {},
   "source": [
    "We now wrap  `linear_quantize()` and `get_quantization_scale_and_zero_point()` into one function."
   ]
  },
  {
   "cell_type": "code",
   "execution_count": 134,
   "id": "ebae5826-a8e4-44cf-8cbc-40875dbf2f04",
   "metadata": {},
   "outputs": [],
   "source": [
    "def linear_quantize_feature(fp_tensor, bitwidth):\n",
    "    \"\"\"\n",
    "    linear quantization for feature tensor\n",
    "    :param fp_tensor: [torch.(cuda.)Tensor] floating feature to be quantized\n",
    "    :param bitwidth: [int] quantization bit width\n",
    "    :return:\n",
    "        [torch.(cuda.)Tensor] quantized tensor\n",
    "        [float] scale tensor\n",
    "        [int] zero point\n",
    "    \"\"\"\n",
    "    scale, zero_point = get_quantization_scale_and_zero_point(fp_tensor, bitwidth)\n",
    "    quantized_tensor = linear_quantize(fp_tensor, bitwidth, scale, zero_point)\n",
    "    return quantized_tensor, scale, zero_point"
   ]
  },
  {
   "cell_type": "markdown",
   "id": "d851fbde-42f3-4e97-888b-6a6fdd177782",
   "metadata": {},
   "source": [
    "## Special case: linear quantization on weight tensor\n",
    "\n",
    "Let's first see the distribution of weight values."
   ]
  },
  {
   "cell_type": "code",
   "execution_count": 135,
   "id": "8b87cdc8-d042-47a7-a094-8ac595d3ef29",
   "metadata": {},
   "outputs": [
    {
     "data": {
      "image/png": "[encoded data removed]",
      "text/plain": [
       "<Figure size 1000x600 with 9 Axes>"
      ]
     },
     "metadata": {},
     "output_type": "display_data"
    }
   ],
   "source": [
    "def plot_weight_distribution(model, bitwidth=32):\n",
    "    # bins = (1 << bitwidth) if bitwidth <= 8 else 256\n",
    "    if bitwidth <= 8:\n",
    "        qmin, qmax = get_quantized_range(bitwidth)\n",
    "        bins = np.arange(qmin, qmax + 2)\n",
    "        align = 'left'\n",
    "    else:\n",
    "        bins = 256\n",
    "        align = 'mid'\n",
    "    fig, axes = plt.subplots(3,3, figsize=(10, 6))\n",
    "    axes = axes.ravel()\n",
    "    plot_index = 0\n",
    "    for name, param in model.named_parameters():\n",
    "        if param.dim() > 1:\n",
    "            ax = axes[plot_index]\n",
    "            ax.hist(param.detach().view(-1).cpu(), bins=bins, density=True,\n",
    "                    align=align, color = 'blue', alpha = 0.5,\n",
    "                    edgecolor='black' if bitwidth <= 4 else None)\n",
    "            if bitwidth <= 4:\n",
    "                quantized_min, quantized_max = get_quantized_range(bitwidth)\n",
    "                ax.set_xticks(np.arange(start=quantized_min, stop=quantized_max+1))\n",
    "            ax.set_xlabel(name)\n",
    "            ax.set_ylabel('density')\n",
    "            plot_index += 1\n",
    "    fig.suptitle(f'Histogram of Weights (bitwidth={bitwidth} bits)')\n",
    "    fig.tight_layout()\n",
    "    fig.subplots_adjust(top=0.925)\n",
    "    plt.show()\n",
    "\n",
    "recover_model()\n",
    "plot_weight_distribution(model)"
   ]
  },
  {
   "cell_type": "markdown",
   "id": "46616df0-b736-46f9-8333-18826bc9c5bd",
   "metadata": {},
   "source": [
    "As we can see from the histograms above, the distribution of weight values are nearly symmetric about 0 (except for the classifier in this case). Therefore, we usually make zero point $Z=0$ when quantizating the weights.\n",
    "\n",
    "From $r = S(q-Z)$, we have\n",
    "\n",
    "> $r_{\\mathrm{max}} = S \\cdot q_{\\mathrm{max}}$\n",
    "\n",
    "and then\n",
    "\n",
    "> $S = r_{\\mathrm{max}} / q_{\\mathrm{max}}$\n",
    "\n",
    "We directly use the maximum magnitude of weight values as $r_{\\mathrm{max}}$."
   ]
  },
  {
   "cell_type": "code",
   "execution_count": 136,
   "id": "21a557a0-b897-438d-ba93-10723660cee5",
   "metadata": {},
   "outputs": [],
   "source": [
    "def get_quantization_scale_for_weight(weight, bitwidth):\n",
    "    \"\"\"\n",
    "    get quantization scale for single tensor of weight\n",
    "    :param weight: [torch.(cuda.)Tensor] floating weight to be quantized\n",
    "    :param bitwidth: [integer] quantization bit width\n",
    "    :return:\n",
    "        [floating scalar] scale\n",
    "    \"\"\"\n",
    "    fp_max = max(weight.abs().max().item(), 5e-7)\n",
    "    _, quantized_max = get_quantized_range(bitwidth)\n",
    "    return fp_max/quantized_max\n",
    "    "
   ]
  },
  {
   "cell_type": "markdown",
   "id": "af429848-866c-48a2-85ff-d05d47166b23",
   "metadata": {},
   "source": [
    "### Per-channel Linear Quantization\n",
    "\n",
    "Recall that for 2D convolution, the weight tensor is a 4-D tensor in the shape of (num_output_channels, num_input_channels, kernel_height, kernel_width).\n",
    "\n",
    "Intensive experiments show that using the different scaling factors $S$ and zero points $Z$ for different output channels will perform better. Therefore, we have to determine scaling factor $S$ and zero point $Z$ for the subtensor of each output channel independently."
   ]
  },
  {
   "cell_type": "code",
   "execution_count": 137,
   "id": "a8aa311c-5110-45c3-80a1-12ced95c0cc8",
   "metadata": {},
   "outputs": [],
   "source": [
    "def linear_quantize_weight_per_channel(tensor, bitwidth):\n",
    "    \"\"\"\n",
    "    linear quantization for weight tensor\n",
    "        using different scales and zero_points for different output channels\n",
    "    :param tensor: [torch.(cuda.)Tensor] floating weight to be quantized\n",
    "    :param bitwidth: [int] quantization bit width\n",
    "    :return:\n",
    "        [torch.(cuda.)Tensor] quantized tensor\n",
    "        [torch.(cuda.)Tensor] scale tensor\n",
    "        [int] zero point (which is always 0)\n",
    "    \"\"\"\n",
    "    \n",
    "    # tensor is of shape (num_output_channels, num_input_channels, kernel_height, kernel_width).\n",
    "    dim_output_channels=0\n",
    "    num_output_channels = tensor.shape[dim_output_channels] # num_output_channels\n",
    "    scale = torch.zeros(num_output_channels, device = tensor.device) # 1D tensor of shape (num_output_channels,), saved scale param for each output channel\n",
    "    \n",
    "    # goes for each output channel one by one\n",
    "    for oc in range(num_output_channels):\n",
    "        _subtensor = tensor.select(dim_output_channels, oc) # tensor of shape (num_input_channels, kernel_height, kernel_width)\n",
    "        _scale = get_quantization_scale_for_weight(_subtensor, bitwidth)\n",
    "        scale[oc] = _scale\n",
    "        \n",
    "    scale_shape = [1]*tensor.dim() # tensor.dim() = 4\n",
    "    scale_shape[dim_output_channels] = -1 # scale_shape = [-1, 1, 1, 1]\n",
    "    scale = scale.view(scale_shape) # reshapes scale to (num_output_channels, 1, 1, 1)\n",
    "    quantized_tensor = linear_quantize(tensor, bitwidth, scale, zero_point = 0)\n",
    "    return quantized_tensor, scale, 0"
   ]
  },
  {
   "cell_type": "markdown",
   "id": "a717401b-466e-40d4-a309-920e7eadb38f",
   "metadata": {},
   "source": [
    "### A Quick Peek at Linear Quantization on Weights\n",
    "\n",
    "Now let's have a peek on the weight distribution and model size when applying linear quantization on weights with different bitwidths."
   ]
  },
  {
   "cell_type": "code",
   "execution_count": 139,
   "id": "203ca5b1-62d3-47e1-85ed-6ed028296bb0",
   "metadata": {},
   "outputs": [
    {
     "data": {
      "image/png": "[encoded data removed]",
      "text/plain": [
       "<Figure size 1000x600 with 9 Axes>"
      ]
     },
     "metadata": {},
     "output_type": "display_data"
    },
    {
     "data": {
      "image/png": "[encoded data removed]",
      "text/plain": [
       "<Figure size 1000x600 with 9 Axes>"
      ]
     },
     "metadata": {},
     "output_type": "display_data"
    }
   ],
   "source": [
    "@torch.no_grad()\n",
    "def peek_linear_quantization():\n",
    "    for bitwidth in [4, 2]:\n",
    "        for name, param in model.named_parameters():\n",
    "            if param.dim() > 1:\n",
    "                quantized_param, scale, zero_point = linear_quantize_weight_per_channel(param, bitwidth)\n",
    "                param.copy_(quantized_param)\n",
    "        plot_weight_distribution(model, bitwidth)\n",
    "        recover_model()\n",
    "\n",
    "peek_linear_quantization()"
   ]
  },
  {
   "cell_type": "markdown",
   "id": "effc3731-be58-4f64-9c9d-4448f9784cd6",
   "metadata": {},
   "source": [
    "## Quantized Inference"
   ]
  },
  {
   "cell_type": "markdown",
   "id": "44f2e4a1-1239-4c98-9e90-ba40bd6f95ce",
   "metadata": {},
   "source": [
    "After quantization, the inference of convolution and fully-connected layers also change.\n",
    "\n",
    "Recall that $r = S(q-Z)$, and we have\n",
    "\n",
    "> $r_{\\mathrm{input}} = S_{\\mathrm{input}}(q_{\\mathrm{input}}-Z_{\\mathrm{input}})$\n",
    ">\n",
    "> $r_{\\mathrm{weight}} = S_{\\mathrm{weight}}(q_{\\mathrm{weight}}-Z_{\\mathrm{weight}})$\n",
    ">\n",
    "> $r_{\\mathrm{bias}} = S_{\\mathrm{bias}}(q_{\\mathrm{bias}}-Z_{\\mathrm{bias}})$\n",
    "\n",
    "Since $Z_{\\mathrm{weight}}=0$, $r_{\\mathrm{weight}} = S_{\\mathrm{weight}}q_{\\mathrm{weight}}$.\n",
    "\n",
    "The floating point convolution can be written as,\n",
    "\n",
    "> $r_{\\mathrm{output}} = \\mathrm{CONV}[r_{\\mathrm{input}}, r_{\\mathrm{weight}}] + r_{\\mathrm{bias}}\\\\\n",
    "\\;\\;\\;\\;\\;\\;\\;\\;= \\mathrm{CONV}[S_{\\mathrm{input}}(q_{\\mathrm{input}}-Z_{\\mathrm{input}}), S_{\\mathrm{weight}}q_{\\mathrm{weight}}] + S_{\\mathrm{bias}}(q_{\\mathrm{bias}}-Z_{\\mathrm{bias}})\\\\\n",
    "\\;\\;\\;\\;\\;\\;\\;\\;= \\mathrm{CONV}[q_{\\mathrm{input}}-Z_{\\mathrm{input}}, q_{\\mathrm{weight}}]\\cdot (S_{\\mathrm{input}} \\cdot S_{\\mathrm{weight}}) + S_{\\mathrm{bias}}(q_{\\mathrm{bias}}-Z_{\\mathrm{bias}})$\n",
    "\n",
    "To further simplify the computation, we could let\n",
    "\n",
    "> $Z_{\\mathrm{bias}} = 0$\n",
    ">\n",
    "> $S_{\\mathrm{bias}} = S_{\\mathrm{input}} \\cdot S_{\\mathrm{weight}}$\n",
    "\n",
    "so that\n",
    "\n",
    "> $r_{\\mathrm{output}} = (\\mathrm{CONV}[q_{\\mathrm{input}}-Z_{\\mathrm{input}}, q_{\\mathrm{weight}}] + q_{\\mathrm{bias}})\\cdot (S_{\\mathrm{input}} \\cdot S_{\\mathrm{weight}})$\n",
    "> $\\;\\;\\;\\;\\;\\;\\;\\;= (\\mathrm{CONV}[q_{\\mathrm{input}}, q_{\\mathrm{weight}}] - \\mathrm{CONV}[Z_{\\mathrm{input}}, q_{\\mathrm{weight}}] + q_{\\mathrm{bias}})\\cdot (S_{\\mathrm{input}}S_{\\mathrm{weight}})$\n",
    "\n",
    "Since\n",
    "> $r_{\\mathrm{output}} = S_{\\mathrm{output}}(q_{\\mathrm{output}}-Z_{\\mathrm{output}})$\n",
    "\n",
    "we have\n",
    "> $S_{\\mathrm{output}}(q_{\\mathrm{output}}-Z_{\\mathrm{output}}) = (\\mathrm{CONV}[q_{\\mathrm{input}}, q_{\\mathrm{weight}}] - \\mathrm{CONV}[Z_{\\mathrm{input}}, q_{\\mathrm{weight}}] + q_{\\mathrm{bias}})\\cdot (S_{\\mathrm{input}} S_{\\mathrm{weight}})$\n",
    "\n",
    "and thus\n",
    "> $q_{\\mathrm{output}} = (\\mathrm{CONV}[q_{\\mathrm{input}}, q_{\\mathrm{weight}}] - \\mathrm{CONV}[Z_{\\mathrm{input}}, q_{\\mathrm{weight}}] + q_{\\mathrm{bias}})\\cdot (S_{\\mathrm{input}}S_{\\mathrm{weight}} / S_{\\mathrm{output}}) + Z_{\\mathrm{output}}$\n",
    "\n",
    "Since $Z_{\\mathrm{input}}$, $q_{\\mathrm{weight}}$, $q_{\\mathrm{bias}}$ are determined before inference, let\n",
    "\n",
    "> $Q_{\\mathrm{bias}} = q_{\\mathrm{bias}} - \\mathrm{CONV}[Z_{\\mathrm{input}}, q_{\\mathrm{weight}}]$\n",
    "\n",
    "we have\n",
    "\n",
    "> $q_{\\mathrm{output}} = (\\mathrm{CONV}[q_{\\mathrm{input}}, q_{\\mathrm{weight}}] + Q_{\\mathrm{bias}}) \\cdot (S_{\\mathrm{input}}S_{\\mathrm{weight}} / S_{\\mathrm{output}}) + Z_{\\mathrm{output}}$\n",
    "\n",
    "Similarily, for fully-connected layer, we have\n",
    "\n",
    "> $q_{\\mathrm{output}} = (\\mathrm{Linear}[q_{\\mathrm{input}}, q_{\\mathrm{weight}}] + Q_{\\mathrm{bias}})\\cdot (S_{\\mathrm{input}} \\cdot S_{\\mathrm{weight}} / S_{\\mathrm{output}}) + Z_{\\mathrm{output}}$\n",
    "\n",
    "where\n",
    "\n",
    "> $Q_{\\mathrm{bias}} = q_{\\mathrm{bias}} - \\mathrm{Linear}[Z_{\\mathrm{input}}, q_{\\mathrm{weight}}]$"
   ]
  },
  {
   "cell_type": "markdown",
   "id": "c3027178-b169-45b5-b74c-9f94bd04c76a",
   "metadata": {},
   "source": [
    "From the above deduction, we know that\n",
    "\n",
    "> $Z_{\\mathrm{bias}} = 0$\n",
    ">\n",
    "> $S_{\\mathrm{bias}} = S_{\\mathrm{input}} \\cdot S_{\\mathrm{weight}}$"
   ]
  },
  {
   "cell_type": "code",
   "execution_count": 140,
   "id": "fdf67ae9-fe9a-43bb-9123-5c6db5c5fca0",
   "metadata": {},
   "outputs": [],
   "source": [
    "def linear_quantize_bias_per_output_channel(bias, weight_scale, input_scale):\n",
    "    \"\"\"\n",
    "    linear quantization for single bias tensor\n",
    "        quantized_bias = fp_bias / bias_scale\n",
    "    :param bias: [torch.FloatTensor] bias weight to be quantized\n",
    "    :param weight_scale: [float or torch.FloatTensor] weight scale tensor\n",
    "    :param input_scale: [float] input scale\n",
    "    :return:\n",
    "        [torch.IntTensor] quantized bias tensor\n",
    "    \"\"\"\n",
    "    \n",
    "    assert(bias.dim() == 1)\n",
    "    assert(bias.dtype == torch.float)\n",
    "    assert(isinstance(input_scale, float))\n",
    "    if isinstance(weight_scale, torch.Tensor):\n",
    "        assert(weight_scale.dtype == torch.float)\n",
    "        weight_scale = weight_scale.view(-1)\n",
    "        assert(bias.numel() == weight_scale.numel())\n",
    "    \n",
    "    bias_scale = input_scale*weight_scale\n",
    "    quantized_bias = linear_quantize(bias, 32, bias_scale, zero_point=0, dtype=torch.int32)\n",
    "    return quantized_bias, bias_scale, 0"
   ]
  },
  {
   "cell_type": "markdown",
   "id": "a5443c2e-c75f-40e0-bb9f-61ab555c2b4a",
   "metadata": {},
   "source": [
    "### Quantized Fully-Connected Layer"
   ]
  },
  {
   "cell_type": "markdown",
   "id": "ce149ca6-7fd8-4933-bcf2-913c4aee7653",
   "metadata": {},
   "source": [
    "For quantized fully-connected layer, we first precompute $Q_{\\mathrm{bias}}$. Recall that $Q_{\\mathrm{bias}} = q_{\\mathrm{bias}} - \\mathrm{Linear}[Z_{\\mathrm{input}}, q_{\\mathrm{weight}}]$."
   ]
  },
  {
   "cell_type": "code",
   "execution_count": 141,
   "id": "50c59992-51d4-4448-8017-612d65465389",
   "metadata": {},
   "outputs": [],
   "source": [
    "def shift_quantized_linear_bias(quantized_bias, quantized_weight, input_zero_point):\n",
    "    \"\"\"\n",
    "    shift quantized bias to incorporate input_zero_point for nn.Linear\n",
    "        shifted_quantized_bias = quantized_bias - Linear(input_zero_point, quantized_weight)\n",
    "    :param quantized_bias: [torch.IntTensor] quantized bias (torch.int32)\n",
    "    :param quantized_weight: [torch.CharTensor] quantized weight (torch.int8)\n",
    "    :param input_zero_point: [int] input zero point\n",
    "    :return:\n",
    "        [torch.IntTensor] shifted quantized bias tensor\n",
    "    \"\"\"\n",
    "    assert(quantized_bias.dtype==torch.int32)\n",
    "    assert(isinstance(input_zero_point, int))\n",
    "    return quantized_bias - quantized_weight.sum(1).to(torch.int32)*input_zero_point"
   ]
  },
  {
   "cell_type": "code",
   "execution_count": 142,
   "id": "ac6934c5-50c3-4d8d-a09b-127ca58f0c0d",
   "metadata": {},
   "outputs": [],
   "source": [
    "def quantized_linear(input, weight, bias, feature_bitwidth, weight_bitwidth, input_zero_point, output_zero_point, input_scale, weight_scale, output_scale):\n",
    "    \"\"\"\n",
    "    quantized fully-connected layer\n",
    "    :param input: [torch.CharTensor] quantized input (torch.int8)\n",
    "    :param weight: [torch.CharTensor] quantized weight (torch.int8)\n",
    "    :param bias: [torch.IntTensor] shifted quantized bias or None (torch.int32)\n",
    "    :param feature_bitwidth: [int] quantization bit width of input and output\n",
    "    :param weight_bitwidth: [int] quantization bit width of weight\n",
    "    :param input_zero_point: [int] input zero point\n",
    "    :param output_zero_point: [int] output zero point\n",
    "    :param input_scale: [float] input feature scale\n",
    "    :param weight_scale: [torch.FloatTensor] weight per-channel scale\n",
    "    :param output_scale: [float] output feature scale\n",
    "    :return:\n",
    "        [torch.CharIntTensor] quantized output feature (torch.int8)\n",
    "    \"\"\"\n",
    "    \n",
    "    # Step 1: integer-based fully-connected (8-bit multiplication with 32-bit accumulation)\n",
    "    if 'cpu' in input.device.type:\n",
    "        output = torch.nn.functional.linear(input.to(torch.int32), weight.to(torch.int32), bias)\n",
    "    else:\n",
    "        # current version pytorch does not yet support integer-based linear() on GPUs\n",
    "        output = torch.nn.functional.linear(input.float(), weight.float(), bias.float())\n",
    "    \n",
    "    # Step 2: scale the output\n",
    "    #         hint: 1. scales are floating numbers, we need to convert output to float as well\n",
    "    #               2. the shape of weight scale is [oc, 1, 1, 1] while the shape of output is [batch_size, oc]\n",
    "    output = output.float()\n",
    "    output *= (input_scale*weight_scale.flatten().view(1, -1)/output_scale)\n",
    "    \n",
    "    # Step 3: shift output by output_zero_point\n",
    "    output = output + output_zero_point\n",
    "    \n",
    "    # Make sure all value lies in the bitwidth-bit range\n",
    "    output = output.round().clamp(*get_quantized_range(feature_bitwidth)).to(torch.int8)\n",
    "    return output\n",
    "    "
   ]
  },
  {
   "cell_type": "markdown",
   "id": "de9140c4-6cb6-4a40-bca6-3a0aa47f0c3d",
   "metadata": {},
   "source": [
    "Let's verify the functionality of defined quantized fully connected layer."
   ]
  },
  {
   "cell_type": "code",
   "execution_count": 143,
   "id": "0dbfddd7-73b5-4c21-8013-d621f3e088fb",
   "metadata": {},
   "outputs": [
    {
     "name": "stdout",
     "output_type": "stream",
     "text": [
      "* Test quantized_fc()\n",
      "    target bitwidth: 2 bits\n",
      "      batch size: 4\n",
      "      input channels: 8\n",
      "      output channels: 8\n",
      "* Test passed.\n"
     ]
    },
    {
     "data": {
      "image/png": "[encoded data removed]",
      "text/plain": [
       "<Figure size 1500x1200 with 9 Axes>"
      ]
     },
     "metadata": {},
     "output_type": "display_data"
    }
   ],
   "source": [
    "test_quantized_fc()"
   ]
  },
  {
   "cell_type": "markdown",
   "id": "b407e763-9619-414d-90b1-8d7eaf3d80d5",
   "metadata": {},
   "source": [
    "### Quantized Convolution"
   ]
  },
  {
   "cell_type": "markdown",
   "id": "10cb704d-deb3-4e7e-8d61-6178d59ad94e",
   "metadata": {},
   "source": [
    "For quantized convolution layer, we first precompute $Q_{\\mathrm{bias}}$. Recall that $Q_{\\mathrm{bias}} = q_{\\mathrm{bias}} - \\mathrm{CONV}[Z_{\\mathrm{input}}, q_{\\mathrm{weight}}]$."
   ]
  },
  {
   "cell_type": "code",
   "execution_count": 94,
   "id": "7b4811ba-aa86-4cd6-9e58-0a0a429f48d3",
   "metadata": {},
   "outputs": [],
   "source": [
    "def shift_quantized_conv2d_bias(quantized_bias, quantized_weight, input_zero_point):\n",
    "    \"\"\"\n",
    "    shift quantized bias to incorporate input_zero_point for nn.Conv2d\n",
    "        shifted_quantized_bias = quantized_bias - Conv(input_zero_point, quantized_weight)\n",
    "    :param quantized_bias: [torch.IntTensor] quantized bias (torch.int32)\n",
    "    :param quantized_weight: [torch.CharTensor] quantized weight (torch.int8)\n",
    "    :param input_zero_point: [int] input zero point\n",
    "    :return:\n",
    "        [torch.IntTensor] shifted quantized bias tensor\n",
    "    \"\"\"\n",
    "    \n",
    "    assert(quantized_bias.dtype == torch.int32)\n",
    "    assert(isinstance(input_zero_point, int))\n",
    "    return quantized_bias - quantized_weight.sum((1,2,3)).to(torch.int32) * input_zero_point"
   ]
  },
  {
   "cell_type": "markdown",
   "id": "ca6b054c-2564-4a40-8350-789bbfe712e7",
   "metadata": {},
   "source": [
    "$q_{\\mathrm{output}} = (\\mathrm{CONV}[q_{\\mathrm{input}}, q_{\\mathrm{weight}}] + Q_{\\mathrm{bias}}) \\cdot (S_{\\mathrm{input}}S_{\\mathrm{weight}} / S_{\\mathrm{output}}) + Z_{\\mathrm{output}}$"
   ]
  },
  {
   "cell_type": "code",
   "execution_count": 144,
   "id": "54ff4212-6fe5-4009-82a3-793ecabed2b5",
   "metadata": {},
   "outputs": [],
   "source": [
    "def quantized_conv2d(input, weight, bias, feature_bitwidth, \n",
    "                     weight_bitwidth, input_zero_point, \n",
    "                     output_zero_point, input_scale, weight_scale, \n",
    "                     output_scale, stride, padding, dilation, groups):\n",
    "    \n",
    "    \"\"\"\n",
    "    quantized 2d convolution\n",
    "    :param input: [torch.CharTensor] quantized input (torch.int8)\n",
    "    :param weight: [torch.CharTensor] quantized weight (torch.int8)\n",
    "    :param bias: [torch.IntTensor] shifted quantized bias or None (torch.int32)\n",
    "    :param feature_bitwidth: [int] quantization bit width of input and output\n",
    "    :param weight_bitwidth: [int] quantization bit width of weight\n",
    "    :param input_zero_point: [int] input zero point\n",
    "    :param samp: [int] output zero point\n",
    "    :param input_scale: [float] input feature scale\n",
    "    :param weight_scale: [torch.FloatTensor] weight per-channel scale\n",
    "    :param output_scale: [float] output feature scale\n",
    "    :return:\n",
    "        [torch.(cuda.)CharTensor] quantized output feature\n",
    "    \"\"\"\n",
    "    \n",
    "    # Step 1: calculate integer-based 2d convolution (8-bit multiplication with 32-bit accumulation)\n",
    "    input = torch.nn.functional.pad(input, padding, 'constant', input_zero_point)\n",
    "    if 'cpu' in input.device.type:\n",
    "        output = torch.nn.functional.conv2d(input.to(torch.int32), weight.to(torch.int32), None, stride, 0, dilation, groups)\n",
    "    else:\n",
    "        # current version pytorch does not yet support integer-based conv2d() on GPUs\n",
    "        output = torch.nn.functional.conv2d(input.float(), weight.float(), None, stride, 0, dilation, groups)\n",
    "        output = output.round().to(torch.int32)\n",
    "    if bias is not None:\n",
    "        output = output + bias.view(1, -1, 1, 1)\n",
    "        \n",
    "    # Step 2: scale the output\n",
    "    #         hint: 1. scales are floating numbers, we need to convert output to float as well\n",
    "    #               2. the shape of weight scale is [oc, 1, 1, 1] while the shape of output is [batch_size, oc, height, width]\n",
    "    output = output.float()\n",
    "    output *= (input_scale*weight_scale.flatten().view(1, -1, 1, 1)/output_scale)\n",
    "    \n",
    "    # Step 3: shift output by output_zero_point\n",
    "    output += output_zero_point\n",
    "    \n",
    "    # Make sure all value lies in the bitwidth-bit range\n",
    "    output = output.round().clamp(*get_quantized_range(feature_bitwidth)).to(torch.int8)\n",
    "    return output\n",
    "    "
   ]
  },
  {
   "cell_type": "markdown",
   "id": "209e5898-e907-4b3d-968a-c0e136642fc8",
   "metadata": {},
   "source": [
    "Finally, we are putting everything together and perform post-training `int8` quantization for the model. We will convert the convolutional and linear layers in the model to a quantized version one-by-one."
   ]
  },
  {
   "cell_type": "markdown",
   "id": "0e41f997-0118-4a22-9c7b-ff53024461bc",
   "metadata": {},
   "source": [
    "1. Firstly, we will fuse a BatchNorm layer into its previous convolutional layer, which is a standard practice before quantization. Fusing batchnorm reduces the extra multiplication during inference.\n",
    "\n",
    "We will also verify that the fused model `model_fused` has the same accuracy as the original model (BN fusion is an equivalent transform that does not change network functionality)."
   ]
  },
  {
   "cell_type": "code",
   "execution_count": 145,
   "id": "4edf0877-7335-4629-8781-829aa4164236",
   "metadata": {},
   "outputs": [
    {
     "name": "stdout",
     "output_type": "stream",
     "text": [
      "Before conv-bn fusion: backbone length 29\n",
      "After conv-bn fusion: backbone length 21\n"
     ]
    },
    {
     "data": {
      "application/vnd.jupyter.widget-view+json": {
       "model_id": "",
       "version_major": 2,
       "version_minor": 0
      },
      "text/plain": [
       "eval:   0%|          | 0/79 [00:00<?, ?it/s]"
      ]
     },
     "metadata": {},
     "output_type": "display_data"
    },
    {
     "name": "stdout",
     "output_type": "stream",
     "text": [
      "Accuracy of the fused model=92.95%\n"
     ]
    }
   ],
   "source": [
    "def fuse_conv_bn(conv, bn):\n",
    "    assert conv.bias is None\n",
    "\n",
    "    factor = bn.weight.data / torch.sqrt(bn.running_var.data + bn.eps)\n",
    "    conv.weight.data = conv.weight.data * factor.reshape(-1, 1, 1, 1)\n",
    "    conv.bias = nn.Parameter(- bn.running_mean.data * factor + bn.bias.data)\n",
    "\n",
    "    return conv\n",
    "\n",
    "print('Before conv-bn fusion: backbone length', len(model.backbone))\n",
    "#  fuse the batchnorm into conv layers\n",
    "recover_model()\n",
    "model_fused = copy.deepcopy(model)\n",
    "fused_backbone = []\n",
    "ptr = 0\n",
    "while ptr < len(model_fused.backbone):\n",
    "    if isinstance(model_fused.backbone[ptr], nn.Conv2d) and \\\n",
    "        isinstance(model_fused.backbone[ptr + 1], nn.BatchNorm2d):\n",
    "        fused_backbone.append(fuse_conv_bn(\n",
    "            model_fused.backbone[ptr], model_fused.backbone[ptr+ 1]))\n",
    "        ptr += 2\n",
    "    else:\n",
    "        fused_backbone.append(model_fused.backbone[ptr])\n",
    "        ptr += 1\n",
    "model_fused.backbone = nn.Sequential(*fused_backbone)\n",
    "\n",
    "print('After conv-bn fusion: backbone length', len(model_fused.backbone))\n",
    "# sanity check, no BN anymore\n",
    "for m in model_fused.modules():\n",
    "    assert not isinstance(m, nn.BatchNorm2d)\n",
    "\n",
    "#  the accuracy will remain the same after fusion\n",
    "fused_acc = evaluate(model_fused, dataloader['test'])\n",
    "print(f'Accuracy of the fused model={fused_acc:.2f}%')"
   ]
  },
  {
   "cell_type": "markdown",
   "id": "d71478cb-66a8-47f7-8929-80d8dfa6ce49",
   "metadata": {},
   "source": [
    "We will run the model with some sample data to get the range of each feature map, so that we can get the range of the feature maps and compute their corresponding scaling factors and zero points."
   ]
  },
  {
   "cell_type": "code",
   "execution_count": 146,
   "id": "3d43daff-742a-42a8-a02e-b28d26ad9716",
   "metadata": {},
   "outputs": [],
   "source": [
    "# add hook to record the min max value of the activation\n",
    "input_activation = {}\n",
    "output_activation = {}\n",
    "\n",
    "def add_range_recoder_hook(model):\n",
    "    import functools\n",
    "    def _record_range(self, x, y, module_name):\n",
    "        x = x[0]\n",
    "        input_activation[module_name] = x.detach()\n",
    "        output_activation[module_name] = y.detach()\n",
    "\n",
    "    all_hooks = []\n",
    "    for name, m in model.named_modules():\n",
    "        if isinstance(m, (nn.Conv2d, nn.Linear, nn.ReLU)):\n",
    "            all_hooks.append(m.register_forward_hook(\n",
    "                functools.partial(_record_range, module_name=name)))\n",
    "    return all_hooks\n",
    "\n",
    "hooks = add_range_recoder_hook(model_fused)\n",
    "# sample from training data. record the scale and zero point for inference usage.\n",
    "sample_data = iter(dataloader['train']).__next__()[0]\n",
    "model_fused(sample_data.cuda())\n",
    "\n",
    "# remove hooks\n",
    "for h in hooks:\n",
    "    h.remove()\n"
   ]
  },
  {
   "cell_type": "markdown",
   "id": "d2933a22-6316-42df-8785-7659e667873b",
   "metadata": {},
   "source": [
    "3. Finally, let's do model quantization. We will convert the model in the following mapping\n",
    "```python\n",
    "nn.Conv2d: QuantizedConv2d,\n",
    "nn.Linear: QuantizedLinear,\n",
    "# the following twos are just wrappers, as current\n",
    "# torch modules do not support int8 data format;\n",
    "# we will temporarily convert them to fp32 for computation\n",
    "nn.MaxPool2d: QuantizedMaxPool2d,\n",
    "nn.AvgPool2d: QuantizedAvgPool2d,\n",
    "```"
   ]
  },
  {
   "cell_type": "code",
   "execution_count": 148,
   "id": "f1890665-1801-4b03-a2cd-eeeb7f90a08b",
   "metadata": {},
   "outputs": [],
   "source": [
    "class QuantizedConv2d(nn.Module):\n",
    "    def __init__(self, weight, bias, \n",
    "                 input_zero_point, output_zero_point, \n",
    "                 input_scale, weight_scale, output_scale, \n",
    "                 stride, padding, dilation, groups,\n",
    "                 feature_bitwidth=8, weight_bitwidth=8):\n",
    "        super().__init__()\n",
    "        self.register_buffer('weight', weight)\n",
    "        self.register_buffer('bias', bias)\n",
    "        \n",
    "        self.input_zero_point = input_zero_point\n",
    "        self.output_zero_point = output_zero_point\n",
    "        \n",
    "        self.input_scale = input_scale\n",
    "        self.register_buffer('weight_scale', weight_scale)\n",
    "        self.output_scale = output_scale\n",
    "        \n",
    "        self.stride = stride\n",
    "        self.padding = (padding[1], padding[1], padding[0], padding[0])\n",
    "        self.dilation = dilation\n",
    "        self.groups = groups\n",
    "        \n",
    "        self.feature_bitwidth = feature_bitwidth\n",
    "        self.weight_bitwidth = weight_bitwidth\n",
    "        \n",
    "        \n",
    "    def forward(self, x):\n",
    "        return quantized_conv2d(x, self.weight, self.bias, \n",
    "                                self.feature_bitwidth, self.weight_bitwidth,\n",
    "                                self.input_zero_point, self.output_zero_point, \n",
    "                                self.input_scale, self.weight_scale, self.output_scale,\n",
    "                                self.stride, self.padding, self.dilation, self.groups\n",
    "                               )\n",
    "    \n",
    "class QuantizedLinear(nn.Module):\n",
    "    def __init__(self, weight, bias,\n",
    "                 input_zero_point, output_zero_point,\n",
    "                 input_scale, weight_scale, output_scale,\n",
    "                 feature_bitwidth=8, weight_bitwidth=8):\n",
    "        super().__init__()\n",
    "        self.register_buffer('weight', weight)\n",
    "        self.register_buffer('bias', bias)\n",
    "        \n",
    "        self.input_zero_point = input_zero_point\n",
    "        self.output_zero_point = output_zero_point\n",
    "        \n",
    "        self.input_scale = input_scale\n",
    "        self.register_buffer('weight_scale', weight_scale)\n",
    "        self.output_scale = output_scale\n",
    "        \n",
    "        self.feature_bitwidth = feature_bitwidth\n",
    "        self.weight_bitwidth = weight_bitwidth\n",
    "        \n",
    "    def forward(self, x):\n",
    "        return quantized_linear(\n",
    "            x, self.weight, self.bias, \n",
    "            self.feature_bitwidth, self.weight_bitwidth,\n",
    "            self.input_zero_point, self.output_zero_point,\n",
    "            self.input_scale, self.weight_scale, self.output_scale\n",
    "        )\n",
    "    \n",
    "class QuantizedMaxPool2d(nn.MaxPool2d):\n",
    "    def forward(self, x):\n",
    "        # current version PyTorch does not support integer-based MaxPool\n",
    "        return super().forward(x.float()).to(torch.int8)\n",
    "\n",
    "class QuantizedAvgPool2d(nn.AvgPool2d):\n",
    "    def forward(self, x):\n",
    "        # current version PyTorch does not support integer-based AvgPool\n",
    "        return super().forward(x.float()).to(torch.int8)\n",
    "    \n",
    "# we use int8 quantization, which is quite popular\n",
    "feature_bitwidth = weight_bitwidth = 8\n",
    "quantized_model = copy.deepcopy(model_fused)\n",
    "\n",
    "quantized_backbone = []\n",
    "ptr = 0\n",
    "while ptr<len(quantized_model.backbone):\n",
    "    if isinstance(quantized_model.backbone[ptr], nn.Conv2d) and \\\n",
    "        isinstance(quantized_model.backbone[ptr+1], nn.ReLU):\n",
    "        conv = quantized_model.backbone[ptr]\n",
    "        conv_name = f'backbone.{ptr}'\n",
    "        relu = quantized_model.backbone[ptr+1]\n",
    "        relu_name = f'backbone.{ptr+1}'\n",
    "        \n",
    "        input_scale, input_zero_point = \\\n",
    "            get_quantization_scale_and_zero_point(\n",
    "                input_activation[conv_name], feature_bitwidth)\n",
    "        \n",
    "        output_scale, output_zero_point = \\\n",
    "            get_quantization_scale_and_zero_point(\n",
    "                output_activation[relu_name], feature_bitwidth)\n",
    "        \n",
    "        quantized_weight, weight_scale, weight_zero_point = \\\n",
    "            linear_quantize_weight_per_channel(conv.weight.data, weight_bitwidth)\n",
    "        quantized_bias, bias_scale, bias_zero_point = \\\n",
    "            linear_quantize_bias_per_output_channel(conv.bias.data, weight_scale, input_scale)\n",
    "        shifted_quantized_bias = \\\n",
    "            shift_quantized_conv2d_bias(quantized_bias, quantized_weight, input_zero_point)\n",
    "        \n",
    "        quantized_conv = QuantizedConv2d(\n",
    "            quantized_weight, shifted_quantized_bias,\n",
    "            input_zero_point, output_zero_point,\n",
    "            input_scale, weight_scale, output_scale,\n",
    "            conv.stride, conv.padding, conv.dilation, conv.groups,\n",
    "            feature_bitwidth=feature_bitwidth, weight_bitwidth=weight_bitwidth\n",
    "        )\n",
    "        \n",
    "        quantized_backbone.append(quantized_conv)\n",
    "        ptr+=2\n",
    "        \n",
    "    elif isinstance(quantized_model.backbone[ptr], nn.MaxPool2d):\n",
    "        quantized_backbone.append(QuantizedMaxPool2d(\n",
    "            kernel_size=quantized_model.backbone[ptr].kernel_size,\n",
    "            stride=quantized_model.backbone[ptr].stride\n",
    "            ))\n",
    "        ptr+=1\n",
    "    elif isinstance(quantized_model.backbone[ptr], nn.AvgPool2d):\n",
    "        quantized_backbone.append(QuantizedAvgPool2d(\n",
    "            kernel_size=quantized_model.backbone[ptr].kernel_size,\n",
    "            stride=quantized_model.backbone[ptr].stride\n",
    "            ))\n",
    "        ptr += 1\n",
    "    else:\n",
    "        raise NotImplementedError(type(quantized_model.backbone[ptr]))\n",
    "        \n",
    "quantized_model.backbone = nn.Sequential(*quantized_backbone)\n",
    "\n",
    "# finally, quantized the classifier\n",
    "fc_name = 'classifier'\n",
    "fc = model.classifier\n",
    "\n",
    "input_scale, input_zero_point = \\\n",
    "    get_quantization_scale_and_zero_point(\n",
    "    input_activation[fc_name], feature_bitwidth)\n",
    "\n",
    "output_scale, output_zero_point = \\\n",
    "    get_quantization_scale_and_zero_point(\n",
    "    output_activation[fc_name], feature_bitwidth)\n",
    "quantized_weight, weight_scale, weight_zero_point = \\\n",
    "    linear_quantize_weight_per_channel(fc.weight.data, weight_bitwidth)\n",
    "\n",
    "quantized_bias, bias_scale, bias_zero_point = \\\n",
    "    linear_quantize_bias_per_output_channel(\n",
    "        fc.bias.data, weight_scale, input_scale)\n",
    "shifted_quantized_bias = \\\n",
    "    shift_quantized_linear_bias(quantized_bias, quantized_weight,\n",
    "                                input_zero_point)\n",
    "\n",
    "quantized_model.classifier = QuantizedLinear(\n",
    "    quantized_weight, shifted_quantized_bias,\n",
    "    input_zero_point, output_zero_point,\n",
    "    input_scale, weight_scale, output_scale,\n",
    "    feature_bitwidth=feature_bitwidth, weight_bitwidth=weight_bitwidth\n",
    ")\n",
    "                                \n"
   ]
  },
  {
   "cell_type": "markdown",
   "id": "fcb9949b-e33c-40f9-a241-878f0341e86c",
   "metadata": {},
   "source": [
    "The quantization process is done! Let's print and visualize the model architecture and also verify the accuracy of the quantized model."
   ]
  },
  {
   "cell_type": "markdown",
   "id": "ecdeba34-6a98-4b95-b8c9-6d97f76a2b2b",
   "metadata": {},
   "source": [
    "\n",
    "To run the quantized model, we need an extra preprocessing to map the input data from range (0, 1) into `int8` range of (-128, 127). Fill in the code below to finish the extra preprocessing.\n",
    "\n",
    "You should find that the quantized model has roughly the same accuracy as the `fp32` counterpart."
   ]
  },
  {
   "cell_type": "code",
   "execution_count": 149,
   "id": "75aab14b-9e34-49c5-9c37-9042eea673da",
   "metadata": {},
   "outputs": [
    {
     "name": "stdout",
     "output_type": "stream",
     "text": [
      "VGG(\n",
      "  (backbone): Sequential(\n",
      "    (0): QuantizedConv2d()\n",
      "    (1): QuantizedConv2d()\n",
      "    (2): QuantizedMaxPool2d(kernel_size=2, stride=2, padding=0, dilation=1, ceil_mode=False)\n",
      "    (3): QuantizedConv2d()\n",
      "    (4): QuantizedConv2d()\n",
      "    (5): QuantizedMaxPool2d(kernel_size=2, stride=2, padding=0, dilation=1, ceil_mode=False)\n",
      "    (6): QuantizedConv2d()\n",
      "    (7): QuantizedConv2d()\n",
      "    (8): QuantizedMaxPool2d(kernel_size=2, stride=2, padding=0, dilation=1, ceil_mode=False)\n",
      "    (9): QuantizedConv2d()\n",
      "    (10): QuantizedConv2d()\n",
      "    (11): QuantizedMaxPool2d(kernel_size=2, stride=2, padding=0, dilation=1, ceil_mode=False)\n",
      "    (12): QuantizedAvgPool2d(kernel_size=2, stride=2, padding=0)\n",
      "  )\n",
      "  (classifier): QuantizedLinear()\n",
      ")\n"
     ]
    },
    {
     "data": {
      "application/vnd.jupyter.widget-view+json": {
       "model_id": "",
       "version_major": 2,
       "version_minor": 0
      },
      "text/plain": [
       "eval:   0%|          | 0/79 [00:00<?, ?it/s]"
      ]
     },
     "metadata": {},
     "output_type": "display_data"
    },
    {
     "name": "stdout",
     "output_type": "stream",
     "text": [
      "int8 model has accuracy=92.82%\n"
     ]
    }
   ],
   "source": [
    "print(quantized_model)\n",
    "\n",
    "def extra_preprocess(x):\n",
    "    # you need to convert the original fp32 input of range (0, 1)\n",
    "    #  into int8 format of range (-128, 127)\n",
    "    return (x * 255 - 128).clamp(-128, 127).to(torch.int8)\n",
    "\n",
    "int8_model_accuracy = evaluate(quantized_model, dataloader['test'],\n",
    "                               extra_preprocess=[extra_preprocess])\n",
    "print(f\"int8 model has accuracy={int8_model_accuracy:.2f}%\")"
   ]
  },
  {
   "cell_type": "code",
   "execution_count": null,
   "id": "6d9c1bc7-13ce-4a3e-af1f-0d5359abac86",
   "metadata": {},
   "outputs": [],
   "source": []
  }
 ],
 "metadata": {
  "environment": {
   "kernel": "python3",
   "name": "pytorch-gpu.1-12.m98",
   "type": "gcloud",
   "uri": "gcr.io/deeplearning-platform-release/pytorch-gpu.1-12:m98"
  },
  "kernelspec": {
   "display_name": "Python 3",
   "language": "python",
   "name": "python3"
  },
  "language_info": {
   "codemirror_mode": {
    "name": "ipython",
    "version": 3
   },
   "file_extension": ".py",
   "mimetype": "text/x-python",
   "name": "python",
   "nbconvert_exporter": "python",
   "pygments_lexer": "ipython3",
   "version": "3.7.12"
  },
  "widgets": {
   "application/vnd.jupyter.widget-state+json": {
    "state": {
     "021e0ad55a4248f58ed9690f9858ebc7": {
      "model_module": "@jupyter-widgets/base",
      "model_module_version": "2.0.0",
      "model_name": "LayoutModel",
      "state": {}
     },
     "030ea6897538424b98e3fc19cae1c1eb": {
      "model_module": "@jupyter-widgets/controls",
      "model_module_version": "2.0.0",
      "model_name": "HBoxModel",
      "state": {
       "children": [
        "IPY_MODEL_4120784dce1b41769d43c07edabac05d",
        "IPY_MODEL_8cfe6f164dd147f5981a996a998c151f",
        "IPY_MODEL_f16a94678fd848bc9c064aa3a839f7e2"
       ],
       "layout": "IPY_MODEL_b4fc764d3529454ab138a123a0016541"
      }
     },
     "085c92872cb245c6870d3124a775c3fe": {
      "model_module": "@jupyter-widgets/controls",
      "model_module_version": "2.0.0",
      "model_name": "HTMLModel",
      "state": {
       "layout": "IPY_MODEL_deeb0353e25e4df1b2899868436fc900",
       "style": "IPY_MODEL_faf14c849ea84dd29e46a59aa0078eed",
       "value": " 78/79 [00:02&lt;00:00, 29.59it/s]"
      }
     },
     "0cfdea10cf434ffdb823d2f0896327fb": {
      "model_module": "@jupyter-widgets/base",
      "model_module_version": "2.0.0",
      "model_name": "LayoutModel",
      "state": {
       "visibility": "hidden"
      }
     },
     "0d06471b76de470ba6d81d6ce27f3086": {
      "model_module": "@jupyter-widgets/base",
      "model_module_version": "2.0.0",
      "model_name": "LayoutModel",
      "state": {}
     },
     "0e7272d1700a474cab10ff3e5b53fdd0": {
      "model_module": "@jupyter-widgets/controls",
      "model_module_version": "2.0.0",
      "model_name": "FloatProgressModel",
      "state": {
       "layout": "IPY_MODEL_4bae81732661426698b9e0397b5c987f",
       "max": 79,
       "style": "IPY_MODEL_ba39dad416274523a32c87914c391f1b",
       "value": 79
      }
     },
     "10f1ff421b2f47189299dd2bee521140": {
      "model_module": "@jupyter-widgets/controls",
      "model_module_version": "2.0.0",
      "model_name": "HTMLStyleModel",
      "state": {
       "description_width": "",
       "font_size": null,
       "text_color": null
      }
     },
     "16cc176ced2b4ec09308b996b04c380f": {
      "model_module": "@jupyter-widgets/controls",
      "model_module_version": "2.0.0",
      "model_name": "HTMLStyleModel",
      "state": {
       "description_width": "",
       "font_size": null,
       "text_color": null
      }
     },
     "16ef86e275964342b4535c5474ee7007": {
      "model_module": "@jupyter-widgets/base",
      "model_module_version": "2.0.0",
      "model_name": "LayoutModel",
      "state": {}
     },
     "1ed00b1c5bb342f0a7e9466072d4b946": {
      "model_module": "@jupyter-widgets/base",
      "model_module_version": "2.0.0",
      "model_name": "LayoutModel",
      "state": {}
     },
     "203f09783c1e427ca610d3381829dc86": {
      "model_module": "@jupyter-widgets/controls",
      "model_module_version": "2.0.0",
      "model_name": "HTMLModel",
      "state": {
       "layout": "IPY_MODEL_f856c2930d1247c38c9c05723d296f69",
       "style": "IPY_MODEL_e190c059d75641aa97cd3b5d70f0c936",
       "value": "eval: 100%"
      }
     },
     "29ff25a0a5484839bbc2a29ef69f1429": {
      "model_module": "@jupyter-widgets/controls",
      "model_module_version": "2.0.0",
      "model_name": "HTMLModel",
      "state": {
       "layout": "IPY_MODEL_61d136016e894bb88887032f62f2dd94",
       "style": "IPY_MODEL_e3d3bee63b5942768463f23f36a9db7f",
       "value": " 77/79 [00:01&lt;00:00, 49.24it/s]"
      }
     },
     "2a4983c4b1cc4cef84564b12be86ea65": {
      "model_module": "@jupyter-widgets/controls",
      "model_module_version": "2.0.0",
      "model_name": "HTMLModel",
      "state": {
       "layout": "IPY_MODEL_cbd81e8e0c534e01bb099d69cff99388",
       "style": "IPY_MODEL_3c3fd609d18d4bdfac3c43fd5dd3c103",
       "value": "eval: 100%"
      }
     },
     "2c7e8cdd908f4570886ed5293dd9322a": {
      "model_module": "@jupyter-widgets/controls",
      "model_module_version": "2.0.0",
      "model_name": "HTMLModel",
      "state": {
       "layout": "IPY_MODEL_952873ac334a446483098783af467dc5",
       "style": "IPY_MODEL_c89ab16d059b4f63badc799c49447c5c",
       "value": " 79/79 [00:02&lt;00:00, 29.63it/s]"
      }
     },
     "2e878e23c3c5437d94922e0117a7210e": {
      "model_module": "@jupyter-widgets/controls",
      "model_module_version": "2.0.0",
      "model_name": "HTMLStyleModel",
      "state": {
       "description_width": "",
       "font_size": null,
       "text_color": null
      }
     },
     "2ef02acc3ea54a12829d72f1332bf1c7": {
      "model_module": "@jupyter-widgets/base",
      "model_module_version": "2.0.0",
      "model_name": "LayoutModel",
      "state": {}
     },
     "31ec54a18e85419a9c6305685c421a19": {
      "model_module": "@jupyter-widgets/base",
      "model_module_version": "2.0.0",
      "model_name": "LayoutModel",
      "state": {}
     },
     "331ad69c30a14ab49df78739518133a8": {
      "model_module": "@jupyter-widgets/controls",
      "model_module_version": "2.0.0",
      "model_name": "HTMLModel",
      "state": {
       "layout": "IPY_MODEL_54f9965d6be2484ba7fd6cdf3645dd01",
       "style": "IPY_MODEL_b1587a4e97ed4a7b8cebbc763b5ce82c",
       "value": "eval:  96%"
      }
     },
     "3344bfa1caa344a6921dcbd9008907bb": {
      "model_module": "@jupyter-widgets/controls",
      "model_module_version": "2.0.0",
      "model_name": "ProgressStyleModel",
      "state": {
       "description_width": ""
      }
     },
     "372a0b0e6b80444db991f3cbb1366f09": {
      "model_module": "@jupyter-widgets/base",
      "model_module_version": "2.0.0",
      "model_name": "LayoutModel",
      "state": {}
     },
     "3a6219eb50bc4723bce9fb43f0d88f7f": {
      "model_module": "@jupyter-widgets/controls",
      "model_module_version": "2.0.0",
      "model_name": "HTMLStyleModel",
      "state": {
       "description_width": "",
       "font_size": null,
       "text_color": null
      }
     },
     "3abec1a4212346e0a60aa28ff48d4933": {
      "model_module": "@jupyter-widgets/controls",
      "model_module_version": "2.0.0",
      "model_name": "HTMLStyleModel",
      "state": {
       "description_width": "",
       "font_size": null,
       "text_color": null
      }
     },
     "3c3fd609d18d4bdfac3c43fd5dd3c103": {
      "model_module": "@jupyter-widgets/controls",
      "model_module_version": "2.0.0",
      "model_name": "HTMLStyleModel",
      "state": {
       "description_width": "",
       "font_size": null,
       "text_color": null
      }
     },
     "3db758e746374aeeafeec693cd6799e7": {
      "model_module": "@jupyter-widgets/controls",
      "model_module_version": "2.0.0",
      "model_name": "HTMLModel",
      "state": {
       "layout": "IPY_MODEL_720454761a9c4d3ca9b51d4ae0dd26e8",
       "style": "IPY_MODEL_ac43992262a041c89a528dcb960f1c05",
       "value": "eval:  97%"
      }
     },
     "3fc62b42a5be4d4fbed892a347e9face": {
      "model_module": "@jupyter-widgets/base",
      "model_module_version": "2.0.0",
      "model_name": "LayoutModel",
      "state": {}
     },
     "4120784dce1b41769d43c07edabac05d": {
      "model_module": "@jupyter-widgets/controls",
      "model_module_version": "2.0.0",
      "model_name": "HTMLModel",
      "state": {
       "layout": "IPY_MODEL_372a0b0e6b80444db991f3cbb1366f09",
       "style": "IPY_MODEL_cb7b98877d3245b7bc7523116aa4c238",
       "value": "eval:   0%"
      }
     },
     "4126fcd5608b461cb7a4333b92532f1c": {
      "model_module": "@jupyter-widgets/controls",
      "model_module_version": "2.0.0",
      "model_name": "HTMLStyleModel",
      "state": {
       "description_width": "",
       "font_size": null,
       "text_color": null
      }
     },
     "415b3499a5da4956b1ca5b85ee05d44b": {
      "model_module": "@jupyter-widgets/controls",
      "model_module_version": "2.0.0",
      "model_name": "ProgressStyleModel",
      "state": {
       "description_width": ""
      }
     },
     "4304287e2ed04bc796469a64a437c44f": {
      "model_module": "@jupyter-widgets/controls",
      "model_module_version": "2.0.0",
      "model_name": "ProgressStyleModel",
      "state": {
       "description_width": ""
      }
     },
     "4438ab362dce48a5a46f5f48e9ace501": {
      "model_module": "@jupyter-widgets/controls",
      "model_module_version": "2.0.0",
      "model_name": "HTMLModel",
      "state": {
       "layout": "IPY_MODEL_e3712690ed744c7aa498f646a56a2e46",
       "style": "IPY_MODEL_2e878e23c3c5437d94922e0117a7210e",
       "value": " 77/79 [00:02&lt;00:00, 24.93it/s]"
      }
     },
     "4880cf2a53d04d1bba05ee970ab34784": {
      "model_module": "@jupyter-widgets/controls",
      "model_module_version": "2.0.0",
      "model_name": "HTMLStyleModel",
      "state": {
       "description_width": "",
       "font_size": null,
       "text_color": null
      }
     },
     "4bae81732661426698b9e0397b5c987f": {
      "model_module": "@jupyter-widgets/base",
      "model_module_version": "2.0.0",
      "model_name": "LayoutModel",
      "state": {}
     },
     "4e7cf8a6858c486d8c2cba3d4337a748": {
      "model_module": "@jupyter-widgets/controls",
      "model_module_version": "2.0.0",
      "model_name": "HTMLModel",
      "state": {
       "layout": "IPY_MODEL_821a5b7a9d0d465fb12147133106e424",
       "style": "IPY_MODEL_fc935e5211cb44628ce600b6f93e1214",
       "value": "eval:  96%"
      }
     },
     "50ea81822ba646efa6af1c7e3de84e8e": {
      "model_module": "@jupyter-widgets/base",
      "model_module_version": "2.0.0",
      "model_name": "LayoutModel",
      "state": {
       "visibility": "hidden"
      }
     },
     "5429b29b6a204d378fd16a3d2765693b": {
      "model_module": "@jupyter-widgets/controls",
      "model_module_version": "2.0.0",
      "model_name": "FloatProgressModel",
      "state": {
       "layout": "IPY_MODEL_7a1038d53eb549bdad70129498e4199b",
       "max": 79,
       "style": "IPY_MODEL_415b3499a5da4956b1ca5b85ee05d44b",
       "value": 79
      }
     },
     "54f9965d6be2484ba7fd6cdf3645dd01": {
      "model_module": "@jupyter-widgets/base",
      "model_module_version": "2.0.0",
      "model_name": "LayoutModel",
      "state": {}
     },
     "59fa5fa0a593457c80034536671fd0e6": {
      "model_module": "@jupyter-widgets/controls",
      "model_module_version": "2.0.0",
      "model_name": "HTMLModel",
      "state": {
       "layout": "IPY_MODEL_f5dd5eb755244d35b575eb70dafe66eb",
       "style": "IPY_MODEL_ed5eede159fa40669f62c0d54312312a",
       "value": " 76/79 [00:01&lt;00:00, 48.40it/s]"
      }
     },
     "5f77277dae92475c998c41b9165c1591": {
      "model_module": "@jupyter-widgets/controls",
      "model_module_version": "2.0.0",
      "model_name": "FloatProgressModel",
      "state": {
       "layout": "IPY_MODEL_c2c293ca70554164b09bcb854942c552",
       "max": 79,
       "style": "IPY_MODEL_cb1fc2fb68eb4745a7d0c3e6c0d1be6e",
       "value": 79
      }
     },
     "5f7b633d1546435bafe8b95860d794b4": {
      "model_module": "@jupyter-widgets/controls",
      "model_module_version": "2.0.0",
      "model_name": "ProgressStyleModel",
      "state": {
       "description_width": ""
      }
     },
     "61d136016e894bb88887032f62f2dd94": {
      "model_module": "@jupyter-widgets/base",
      "model_module_version": "2.0.0",
      "model_name": "LayoutModel",
      "state": {}
     },
     "62e92bd62fd54738be0f25760fd7dfa5": {
      "model_module": "@jupyter-widgets/controls",
      "model_module_version": "2.0.0",
      "model_name": "FloatProgressModel",
      "state": {
       "layout": "IPY_MODEL_7c6825c3245f42208440d26cae80729d",
       "max": 79,
       "style": "IPY_MODEL_3344bfa1caa344a6921dcbd9008907bb",
       "value": 79
      }
     },
     "679c2663670a4a9ebdaed916efac63db": {
      "model_module": "@jupyter-widgets/controls",
      "model_module_version": "2.0.0",
      "model_name": "ProgressStyleModel",
      "state": {
       "description_width": ""
      }
     },
     "6bcd12141fc843908ca84fa76a6c6a43": {
      "model_module": "@jupyter-widgets/controls",
      "model_module_version": "2.0.0",
      "model_name": "HTMLStyleModel",
      "state": {
       "description_width": "",
       "font_size": null,
       "text_color": null
      }
     },
     "6c0c74377c4b45ba9c3e5e52dbc886bc": {
      "model_module": "@jupyter-widgets/controls",
      "model_module_version": "2.0.0",
      "model_name": "ProgressStyleModel",
      "state": {
       "description_width": ""
      }
     },
     "6db19601fa004ad8aecfde0b08770cbd": {
      "model_module": "@jupyter-widgets/controls",
      "model_module_version": "2.0.0",
      "model_name": "HTMLStyleModel",
      "state": {
       "description_width": "",
       "font_size": null,
       "text_color": null
      }
     },
     "6ff7fe7c7d41428c9553180e3a3d9fc9": {
      "model_module": "@jupyter-widgets/base",
      "model_module_version": "2.0.0",
      "model_name": "LayoutModel",
      "state": {}
     },
     "720454761a9c4d3ca9b51d4ae0dd26e8": {
      "model_module": "@jupyter-widgets/base",
      "model_module_version": "2.0.0",
      "model_name": "LayoutModel",
      "state": {}
     },
     "720a3656fd314a25b652db83456e264b": {
      "model_module": "@jupyter-widgets/controls",
      "model_module_version": "2.0.0",
      "model_name": "HTMLModel",
      "state": {
       "layout": "IPY_MODEL_8846b4323f344c8d90387c0b5fd47f47",
       "style": "IPY_MODEL_3a6219eb50bc4723bce9fb43f0d88f7f",
       "value": " 78/79 [00:01&lt;00:00, 48.40it/s]"
      }
     },
     "72e267875891476e99c240ffa396dfa8": {
      "model_module": "@jupyter-widgets/controls",
      "model_module_version": "2.0.0",
      "model_name": "HTMLModel",
      "state": {
       "layout": "IPY_MODEL_1ed00b1c5bb342f0a7e9466072d4b946",
       "style": "IPY_MODEL_b241034fee0e4bb48316c06e99b7b19f",
       "value": "eval: 100%"
      }
     },
     "793e8f18e3004c1c83568f2b8b1faed9": {
      "model_module": "@jupyter-widgets/base",
      "model_module_version": "2.0.0",
      "model_name": "LayoutModel",
      "state": {}
     },
     "7a1038d53eb549bdad70129498e4199b": {
      "model_module": "@jupyter-widgets/base",
      "model_module_version": "2.0.0",
      "model_name": "LayoutModel",
      "state": {}
     },
     "7b88025eb75d4e59a47df8eedca70e58": {
      "model_module": "@jupyter-widgets/controls",
      "model_module_version": "2.0.0",
      "model_name": "HTMLStyleModel",
      "state": {
       "description_width": "",
       "font_size": null,
       "text_color": null
      }
     },
     "7c6825c3245f42208440d26cae80729d": {
      "model_module": "@jupyter-widgets/base",
      "model_module_version": "2.0.0",
      "model_name": "LayoutModel",
      "state": {}
     },
     "7d9586304f5f47db9cb4496cf1ad12e0": {
      "model_module": "@jupyter-widgets/controls",
      "model_module_version": "2.0.0",
      "model_name": "FloatProgressModel",
      "state": {
       "layout": "IPY_MODEL_a5b36bc1f4d940cf85196abbf55466ed",
       "max": 79,
       "style": "IPY_MODEL_5f7b633d1546435bafe8b95860d794b4",
       "value": 79
      }
     },
     "821a5b7a9d0d465fb12147133106e424": {
      "model_module": "@jupyter-widgets/base",
      "model_module_version": "2.0.0",
      "model_name": "LayoutModel",
      "state": {}
     },
     "8660cd1182d140e88bdb749c1b667baa": {
      "model_module": "@jupyter-widgets/base",
      "model_module_version": "2.0.0",
      "model_name": "LayoutModel",
      "state": {}
     },
     "8846b4323f344c8d90387c0b5fd47f47": {
      "model_module": "@jupyter-widgets/base",
      "model_module_version": "2.0.0",
      "model_name": "LayoutModel",
      "state": {}
     },
     "8878a0f37c28470b9e1060fb3a910a57": {
      "model_module": "@jupyter-widgets/controls",
      "model_module_version": "2.0.0",
      "model_name": "HTMLModel",
      "state": {
       "layout": "IPY_MODEL_d4e9eada4c3046b3b2a6e9bef3107f16",
       "style": "IPY_MODEL_dd5900e8adeb4e05a4cfb0a9e958e6ba",
       "value": " 0/79 [00:00&lt;?, ?it/s]"
      }
     },
     "8b0979605c4c41d094754c8e4487ae9f": {
      "model_module": "@jupyter-widgets/base",
      "model_module_version": "2.0.0",
      "model_name": "LayoutModel",
      "state": {}
     },
     "8cfe6f164dd147f5981a996a998c151f": {
      "model_module": "@jupyter-widgets/controls",
      "model_module_version": "2.0.0",
      "model_name": "FloatProgressModel",
      "state": {
       "bar_style": "danger",
       "layout": "IPY_MODEL_2ef02acc3ea54a12829d72f1332bf1c7",
       "max": 79,
       "style": "IPY_MODEL_679c2663670a4a9ebdaed916efac63db"
      }
     },
     "8e883c20c19c463fbfbb9448e4e667ef": {
      "model_module": "@jupyter-widgets/base",
      "model_module_version": "2.0.0",
      "model_name": "LayoutModel",
      "state": {
       "visibility": "hidden"
      }
     },
     "8fa3df351e9d4af2a16f5b2b199e190c": {
      "model_module": "@jupyter-widgets/base",
      "model_module_version": "2.0.0",
      "model_name": "LayoutModel",
      "state": {}
     },
     "9253b2302de242449589b12e8285f2d5": {
      "model_module": "@jupyter-widgets/base",
      "model_module_version": "2.0.0",
      "model_name": "LayoutModel",
      "state": {}
     },
     "952873ac334a446483098783af467dc5": {
      "model_module": "@jupyter-widgets/base",
      "model_module_version": "2.0.0",
      "model_name": "LayoutModel",
      "state": {}
     },
     "9bcd3b3dcb0540d2ada9c2c72af1be96": {
      "model_module": "@jupyter-widgets/base",
      "model_module_version": "2.0.0",
      "model_name": "LayoutModel",
      "state": {}
     },
     "9d506bbb130d42ab8b02c2b700bf4ec9": {
      "model_module": "@jupyter-widgets/base",
      "model_module_version": "2.0.0",
      "model_name": "LayoutModel",
      "state": {
       "visibility": "hidden"
      }
     },
     "9e06b7c62d78474b9e45c90c06d6275d": {
      "model_module": "@jupyter-widgets/controls",
      "model_module_version": "2.0.0",
      "model_name": "FloatProgressModel",
      "state": {
       "layout": "IPY_MODEL_d35150d015674a8cb096188d35e57b61",
       "max": 79,
       "style": "IPY_MODEL_6c0c74377c4b45ba9c3e5e52dbc886bc",
       "value": 79
      }
     },
     "9e2d1d114cab44a9a5771c18f174dd4f": {
      "model_module": "@jupyter-widgets/base",
      "model_module_version": "2.0.0",
      "model_name": "LayoutModel",
      "state": {}
     },
     "9fc93f7497e4432ca30d6997fe1c90d3": {
      "model_module": "@jupyter-widgets/controls",
      "model_module_version": "2.0.0",
      "model_name": "ProgressStyleModel",
      "state": {
       "description_width": ""
      }
     },
     "a1d90ba5565d47e58322def71b5b8fa0": {
      "model_module": "@jupyter-widgets/controls",
      "model_module_version": "2.0.0",
      "model_name": "FloatProgressModel",
      "state": {
       "layout": "IPY_MODEL_8660cd1182d140e88bdb749c1b667baa",
       "max": 79,
       "style": "IPY_MODEL_ef9dcc4361444f2eb0d3a261413e3540",
       "value": 79
      }
     },
     "a411802cb74b4ef3abec3171e33979a2": {
      "model_module": "@jupyter-widgets/controls",
      "model_module_version": "2.0.0",
      "model_name": "FloatProgressModel",
      "state": {
       "layout": "IPY_MODEL_021e0ad55a4248f58ed9690f9858ebc7",
       "max": 79,
       "style": "IPY_MODEL_f65f51b25a5a48ea914d2b2128a32e9e",
       "value": 79
      }
     },
     "a5b36bc1f4d940cf85196abbf55466ed": {
      "model_module": "@jupyter-widgets/base",
      "model_module_version": "2.0.0",
      "model_name": "LayoutModel",
      "state": {}
     },
     "a706410464af45fba5a6b98355d1d4b7": {
      "model_module": "@jupyter-widgets/controls",
      "model_module_version": "2.0.0",
      "model_name": "HTMLModel",
      "state": {
       "layout": "IPY_MODEL_aaf1e8efc65f41969b4fd8e932b249c4",
       "style": "IPY_MODEL_6db19601fa004ad8aecfde0b08770cbd",
       "value": "eval:  97%"
      }
     },
     "a7fd87a4402b4b03a54629188e979443": {
      "model_module": "@jupyter-widgets/base",
      "model_module_version": "2.0.0",
      "model_name": "LayoutModel",
      "state": {
       "visibility": "hidden"
      }
     },
     "a9560e9e314f4b1982058e358814d606": {
      "model_module": "@jupyter-widgets/controls",
      "model_module_version": "2.0.0",
      "model_name": "HTMLModel",
      "state": {
       "layout": "IPY_MODEL_9bcd3b3dcb0540d2ada9c2c72af1be96",
       "style": "IPY_MODEL_c669bf28a4cd42fdb925f737bf7fce07",
       "value": "eval:  99%"
      }
     },
     "aaf1e8efc65f41969b4fd8e932b249c4": {
      "model_module": "@jupyter-widgets/base",
      "model_module_version": "2.0.0",
      "model_name": "LayoutModel",
      "state": {}
     },
     "ac43992262a041c89a528dcb960f1c05": {
      "model_module": "@jupyter-widgets/controls",
      "model_module_version": "2.0.0",
      "model_name": "HTMLStyleModel",
      "state": {
       "description_width": "",
       "font_size": null,
       "text_color": null
      }
     },
     "ad8c799cc8e04466bf6f49c0e092b3b5": {
      "model_module": "@jupyter-widgets/controls",
      "model_module_version": "2.0.0",
      "model_name": "HTMLModel",
      "state": {
       "layout": "IPY_MODEL_8fa3df351e9d4af2a16f5b2b199e190c",
       "style": "IPY_MODEL_4126fcd5608b461cb7a4333b92532f1c",
       "value": "eval: 100%"
      }
     },
     "afce15ab396e47c58ce4300d1d7c8720": {
      "model_module": "@jupyter-widgets/controls",
      "model_module_version": "2.0.0",
      "model_name": "HTMLModel",
      "state": {
       "layout": "IPY_MODEL_9e2d1d114cab44a9a5771c18f174dd4f",
       "style": "IPY_MODEL_10f1ff421b2f47189299dd2bee521140",
       "value": " 79/79 [00:01&lt;00:00, 49.42it/s]"
      }
     },
     "b1587a4e97ed4a7b8cebbc763b5ce82c": {
      "model_module": "@jupyter-widgets/controls",
      "model_module_version": "2.0.0",
      "model_name": "HTMLStyleModel",
      "state": {
       "description_width": "",
       "font_size": null,
       "text_color": null
      }
     },
     "b241034fee0e4bb48316c06e99b7b19f": {
      "model_module": "@jupyter-widgets/controls",
      "model_module_version": "2.0.0",
      "model_name": "HTMLStyleModel",
      "state": {
       "description_width": "",
       "font_size": null,
       "text_color": null
      }
     },
     "b4776e40bc184f50934a71e25633d28b": {
      "model_module": "@jupyter-widgets/controls",
      "model_module_version": "2.0.0",
      "model_name": "HTMLModel",
      "state": {
       "layout": "IPY_MODEL_0d06471b76de470ba6d81d6ce27f3086",
       "style": "IPY_MODEL_cedc5fa3414747c093f424b8be9a222a",
       "value": " 79/79 [00:01&lt;00:00, 49.20it/s]"
      }
     },
     "b4fc764d3529454ab138a123a0016541": {
      "model_module": "@jupyter-widgets/base",
      "model_module_version": "2.0.0",
      "model_name": "LayoutModel",
      "state": {}
     },
     "ba39dad416274523a32c87914c391f1b": {
      "model_module": "@jupyter-widgets/controls",
      "model_module_version": "2.0.0",
      "model_name": "ProgressStyleModel",
      "state": {
       "description_width": ""
      }
     },
     "bf1f0658dfc64848aa5ce521af91fc5f": {
      "model_module": "@jupyter-widgets/base",
      "model_module_version": "2.0.0",
      "model_name": "LayoutModel",
      "state": {}
     },
     "c07f3164e74249428fca0d094bfa7ecf": {
      "model_module": "@jupyter-widgets/controls",
      "model_module_version": "2.0.0",
      "model_name": "HTMLModel",
      "state": {
       "layout": "IPY_MODEL_8b0979605c4c41d094754c8e4487ae9f",
       "style": "IPY_MODEL_6bcd12141fc843908ca84fa76a6c6a43",
       "value": "eval:   0%"
      }
     },
     "c2c293ca70554164b09bcb854942c552": {
      "model_module": "@jupyter-widgets/base",
      "model_module_version": "2.0.0",
      "model_name": "LayoutModel",
      "state": {}
     },
     "c47a1354a1c3471f835d7c905c385d7d": {
      "model_module": "@jupyter-widgets/base",
      "model_module_version": "2.0.0",
      "model_name": "LayoutModel",
      "state": {
       "visibility": "hidden"
      }
     },
     "c5bd0e1353b44386b882c0ac3be5ed3c": {
      "model_module": "@jupyter-widgets/base",
      "model_module_version": "2.0.0",
      "model_name": "LayoutModel",
      "state": {
       "visibility": "hidden"
      }
     },
     "c669bf28a4cd42fdb925f737bf7fce07": {
      "model_module": "@jupyter-widgets/controls",
      "model_module_version": "2.0.0",
      "model_name": "HTMLStyleModel",
      "state": {
       "description_width": "",
       "font_size": null,
       "text_color": null
      }
     },
     "c89ab16d059b4f63badc799c49447c5c": {
      "model_module": "@jupyter-widgets/controls",
      "model_module_version": "2.0.0",
      "model_name": "HTMLStyleModel",
      "state": {
       "description_width": "",
       "font_size": null,
       "text_color": null
      }
     },
     "c95e84bf06d64c79b5b3c9cdcf0f61ba": {
      "model_module": "@jupyter-widgets/base",
      "model_module_version": "2.0.0",
      "model_name": "LayoutModel",
      "state": {}
     },
     "cb1fc2fb68eb4745a7d0c3e6c0d1be6e": {
      "model_module": "@jupyter-widgets/controls",
      "model_module_version": "2.0.0",
      "model_name": "ProgressStyleModel",
      "state": {
       "description_width": ""
      }
     },
     "cb7b98877d3245b7bc7523116aa4c238": {
      "model_module": "@jupyter-widgets/controls",
      "model_module_version": "2.0.0",
      "model_name": "HTMLStyleModel",
      "state": {
       "description_width": "",
       "font_size": null,
       "text_color": null
      }
     },
     "cbd81e8e0c534e01bb099d69cff99388": {
      "model_module": "@jupyter-widgets/base",
      "model_module_version": "2.0.0",
      "model_name": "LayoutModel",
      "state": {}
     },
     "cbf36e54e0fe41c0be5e2bfc22dfdc74": {
      "model_module": "@jupyter-widgets/controls",
      "model_module_version": "2.0.0",
      "model_name": "FloatProgressModel",
      "state": {
       "bar_style": "danger",
       "layout": "IPY_MODEL_bf1f0658dfc64848aa5ce521af91fc5f",
       "max": 79,
       "style": "IPY_MODEL_9fc93f7497e4432ca30d6997fe1c90d3"
      }
     },
     "ce1e876ff3e14d45a8c39d9f0debac22": {
      "model_module": "@jupyter-widgets/controls",
      "model_module_version": "2.0.0",
      "model_name": "ProgressStyleModel",
      "state": {
       "description_width": ""
      }
     },
     "cedc5fa3414747c093f424b8be9a222a": {
      "model_module": "@jupyter-widgets/controls",
      "model_module_version": "2.0.0",
      "model_name": "HTMLStyleModel",
      "state": {
       "description_width": "",
       "font_size": null,
       "text_color": null
      }
     },
     "d119c3bd9fb94158a100092bc6231785": {
      "model_module": "@jupyter-widgets/controls",
      "model_module_version": "2.0.0",
      "model_name": "FloatProgressModel",
      "state": {
       "layout": "IPY_MODEL_c95e84bf06d64c79b5b3c9cdcf0f61ba",
       "max": 79,
       "style": "IPY_MODEL_ce1e876ff3e14d45a8c39d9f0debac22",
       "value": 79
      }
     },
     "d35150d015674a8cb096188d35e57b61": {
      "model_module": "@jupyter-widgets/base",
      "model_module_version": "2.0.0",
      "model_name": "LayoutModel",
      "state": {}
     },
     "d46315d79e2c4f3a82c0ea18b8ae034e": {
      "model_module": "@jupyter-widgets/controls",
      "model_module_version": "2.0.0",
      "model_name": "HTMLStyleModel",
      "state": {
       "description_width": "",
       "font_size": null,
       "text_color": null
      }
     },
     "d492b627a2b547648445a5afbe080df4": {
      "model_module": "@jupyter-widgets/controls",
      "model_module_version": "2.0.0",
      "model_name": "HTMLModel",
      "state": {
       "layout": "IPY_MODEL_16ef86e275964342b4535c5474ee7007",
       "style": "IPY_MODEL_7b88025eb75d4e59a47df8eedca70e58",
       "value": "eval:  97%"
      }
     },
     "d4e9eada4c3046b3b2a6e9bef3107f16": {
      "model_module": "@jupyter-widgets/base",
      "model_module_version": "2.0.0",
      "model_name": "LayoutModel",
      "state": {}
     },
     "d66e77a5c43b4235be7ea25dd72980b5": {
      "model_module": "@jupyter-widgets/base",
      "model_module_version": "2.0.0",
      "model_name": "LayoutModel",
      "state": {
       "visibility": "hidden"
      }
     },
     "d940d8dfb4394dba85dd9fd8c668c782": {
      "model_module": "@jupyter-widgets/base",
      "model_module_version": "2.0.0",
      "model_name": "LayoutModel",
      "state": {
       "visibility": "hidden"
      }
     },
     "d9867f2b97c5407a96e73538fd4a23e6": {
      "model_module": "@jupyter-widgets/controls",
      "model_module_version": "2.0.0",
      "model_name": "FloatProgressModel",
      "state": {
       "layout": "IPY_MODEL_3fc62b42a5be4d4fbed892a347e9face",
       "max": 79,
       "style": "IPY_MODEL_4304287e2ed04bc796469a64a437c44f",
       "value": 79
      }
     },
     "d9f1d27eae4e4308b13dd0185123ede7": {
      "model_module": "@jupyter-widgets/controls",
      "model_module_version": "2.0.0",
      "model_name": "HTMLModel",
      "state": {
       "layout": "IPY_MODEL_793e8f18e3004c1c83568f2b8b1faed9",
       "style": "IPY_MODEL_db69a4d9bb0746fd92209ea5be81de9f",
       "value": " 79/79 [00:01&lt;00:00, 48.44it/s]"
      }
     },
     "db69a4d9bb0746fd92209ea5be81de9f": {
      "model_module": "@jupyter-widgets/controls",
      "model_module_version": "2.0.0",
      "model_name": "HTMLStyleModel",
      "state": {
       "description_width": "",
       "font_size": null,
       "text_color": null
      }
     },
     "db93f43809a94ee1a0b349a0ef78ec82": {
      "model_module": "@jupyter-widgets/controls",
      "model_module_version": "2.0.0",
      "model_name": "FloatProgressModel",
      "state": {
       "layout": "IPY_MODEL_ff09733bc6fd4bef8edf69c16dd45196",
       "max": 79,
       "style": "IPY_MODEL_dfdb46000ce54a0b80c496173affb258",
       "value": 79
      }
     },
     "dc612c8e7be2431e866c423e3b2f34b4": {
      "model_module": "@jupyter-widgets/controls",
      "model_module_version": "2.0.0",
      "model_name": "HTMLModel",
      "state": {
       "layout": "IPY_MODEL_f9c3d1ca06aa4eb5a76c0bce54b020df",
       "style": "IPY_MODEL_4880cf2a53d04d1bba05ee970ab34784",
       "value": " 77/79 [00:02&lt;00:00, 29.75it/s]"
      }
     },
     "dd5900e8adeb4e05a4cfb0a9e958e6ba": {
      "model_module": "@jupyter-widgets/controls",
      "model_module_version": "2.0.0",
      "model_name": "HTMLStyleModel",
      "state": {
       "description_width": "",
       "font_size": null,
       "text_color": null
      }
     },
     "deeb0353e25e4df1b2899868436fc900": {
      "model_module": "@jupyter-widgets/base",
      "model_module_version": "2.0.0",
      "model_name": "LayoutModel",
      "state": {}
     },
     "dfdb46000ce54a0b80c496173affb258": {
      "model_module": "@jupyter-widgets/controls",
      "model_module_version": "2.0.0",
      "model_name": "ProgressStyleModel",
      "state": {
       "description_width": ""
      }
     },
     "e190c059d75641aa97cd3b5d70f0c936": {
      "model_module": "@jupyter-widgets/controls",
      "model_module_version": "2.0.0",
      "model_name": "HTMLStyleModel",
      "state": {
       "description_width": "",
       "font_size": null,
       "text_color": null
      }
     },
     "e3712690ed744c7aa498f646a56a2e46": {
      "model_module": "@jupyter-widgets/base",
      "model_module_version": "2.0.0",
      "model_name": "LayoutModel",
      "state": {}
     },
     "e3d3bee63b5942768463f23f36a9db7f": {
      "model_module": "@jupyter-widgets/controls",
      "model_module_version": "2.0.0",
      "model_name": "HTMLStyleModel",
      "state": {
       "description_width": "",
       "font_size": null,
       "text_color": null
      }
     },
     "e65ec88c6f7a43c5baed1a6109561796": {
      "model_module": "@jupyter-widgets/controls",
      "model_module_version": "2.0.0",
      "model_name": "HTMLModel",
      "state": {
       "layout": "IPY_MODEL_9253b2302de242449589b12e8285f2d5",
       "style": "IPY_MODEL_3abec1a4212346e0a60aa28ff48d4933",
       "value": "eval:  99%"
      }
     },
     "ec6e8871ac4e4845b3a2b259e916d603": {
      "model_module": "@jupyter-widgets/base",
      "model_module_version": "2.0.0",
      "model_name": "LayoutModel",
      "state": {
       "visibility": "hidden"
      }
     },
     "ed5eede159fa40669f62c0d54312312a": {
      "model_module": "@jupyter-widgets/controls",
      "model_module_version": "2.0.0",
      "model_name": "HTMLStyleModel",
      "state": {
       "description_width": "",
       "font_size": null,
       "text_color": null
      }
     },
     "edec6bea738a4b3984ef35ccd822e7cc": {
      "model_module": "@jupyter-widgets/base",
      "model_module_version": "2.0.0",
      "model_name": "LayoutModel",
      "state": {
       "visibility": "hidden"
      }
     },
     "ef9dcc4361444f2eb0d3a261413e3540": {
      "model_module": "@jupyter-widgets/controls",
      "model_module_version": "2.0.0",
      "model_name": "ProgressStyleModel",
      "state": {
       "description_width": ""
      }
     },
     "f16a94678fd848bc9c064aa3a839f7e2": {
      "model_module": "@jupyter-widgets/controls",
      "model_module_version": "2.0.0",
      "model_name": "HTMLModel",
      "state": {
       "layout": "IPY_MODEL_f404bb57c56743f49a8c60f29e06ec32",
       "style": "IPY_MODEL_d46315d79e2c4f3a82c0ea18b8ae034e",
       "value": " 0/79 [00:00&lt;?, ?it/s]"
      }
     },
     "f2372f0a78b346859d59bb55d80fe24a": {
      "model_module": "@jupyter-widgets/controls",
      "model_module_version": "2.0.0",
      "model_name": "HTMLModel",
      "state": {
       "layout": "IPY_MODEL_6ff7fe7c7d41428c9553180e3a3d9fc9",
       "style": "IPY_MODEL_16cc176ced2b4ec09308b996b04c380f",
       "value": " 76/79 [00:01&lt;00:00, 48.84it/s]"
      }
     },
     "f404bb57c56743f49a8c60f29e06ec32": {
      "model_module": "@jupyter-widgets/base",
      "model_module_version": "2.0.0",
      "model_name": "LayoutModel",
      "state": {}
     },
     "f5dd5eb755244d35b575eb70dafe66eb": {
      "model_module": "@jupyter-widgets/base",
      "model_module_version": "2.0.0",
      "model_name": "LayoutModel",
      "state": {}
     },
     "f65f51b25a5a48ea914d2b2128a32e9e": {
      "model_module": "@jupyter-widgets/controls",
      "model_module_version": "2.0.0",
      "model_name": "ProgressStyleModel",
      "state": {
       "description_width": ""
      }
     },
     "f856c2930d1247c38c9c05723d296f69": {
      "model_module": "@jupyter-widgets/base",
      "model_module_version": "2.0.0",
      "model_name": "LayoutModel",
      "state": {}
     },
     "f85a4e1d9b524628bdc412b645989638": {
      "model_module": "@jupyter-widgets/controls",
      "model_module_version": "2.0.0",
      "model_name": "HBoxModel",
      "state": {
       "children": [
        "IPY_MODEL_c07f3164e74249428fca0d094bfa7ecf",
        "IPY_MODEL_cbf36e54e0fe41c0be5e2bfc22dfdc74",
        "IPY_MODEL_8878a0f37c28470b9e1060fb3a910a57"
       ],
       "layout": "IPY_MODEL_31ec54a18e85419a9c6305685c421a19"
      }
     },
     "f9c3d1ca06aa4eb5a76c0bce54b020df": {
      "model_module": "@jupyter-widgets/base",
      "model_module_version": "2.0.0",
      "model_name": "LayoutModel",
      "state": {}
     },
     "faf14c849ea84dd29e46a59aa0078eed": {
      "model_module": "@jupyter-widgets/controls",
      "model_module_version": "2.0.0",
      "model_name": "HTMLStyleModel",
      "state": {
       "description_width": "",
       "font_size": null,
       "text_color": null
      }
     },
     "fc935e5211cb44628ce600b6f93e1214": {
      "model_module": "@jupyter-widgets/controls",
      "model_module_version": "2.0.0",
      "model_name": "HTMLStyleModel",
      "state": {
       "description_width": "",
       "font_size": null,
       "text_color": null
      }
     },
     "ff09733bc6fd4bef8edf69c16dd45196": {
      "model_module": "@jupyter-widgets/base",
      "model_module_version": "2.0.0",
      "model_name": "LayoutModel",
      "state": {}
     }
    },
    "version_major": 2,
    "version_minor": 0
   }
  }
 },
 "nbformat": 4,
 "nbformat_minor": 5
}
